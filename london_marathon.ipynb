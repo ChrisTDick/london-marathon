{
 "cells": [
  {
   "cell_type": "code",
   "execution_count": 1,
   "metadata": {},
   "outputs": [],
   "source": [
    "import pandas as pd\n",
    "import numpy as np\n",
    "from ast import literal_eval\n",
    "from nltk import word_tokenize\n",
    "import matplotlib.pyplot as plt\n",
    "import pickle\n",
    "from sklearn.linear_model import LogisticRegression\n",
    "from sklearn.linear_model import LinearRegression"
   ]
  },
  {
   "cell_type": "code",
   "execution_count": 2,
   "metadata": {},
   "outputs": [],
   "source": [
    "#make the df for years 2014 to 2017\n",
    "files2017 = [\"2014_1.csv\", \"2014_2.csv\", \"2014_3.csv\", \"2014_4.csv\", \"2014_5.csv\", \n",
    "           \"2015_1.csv\", \"2015_2.csv\", \"2015_3.csv\", \"2014_4.csv\", \n",
    "           \"2016_1.csv\", \"2016_2.csv\", \"2016_3.csv\", \n",
    "           \"2017_1.csv\", \"2017_2.csv\", \n",
    "            \"2018_A.csv\", \"2018_B.csv\", \"2018_C.csv\", \"2018_D.csv\"]\n",
    "\n",
    "list_of_dfs = []\n",
    "for file in files2017:\n",
    "    df_file = pd.read_csv(file)\n",
    "    df_file[\"Year\"] = int(file[:4])\n",
    "    list_of_dfs.append(df_file)\n",
    "df17 = pd.concat(list_of_dfs, ignore_index = True, sort=False)\n",
    "\n",
    "#reorder columns\n",
    "cols = ['Name', 'Runner no', 'Year', 'Club', 'Category', 'Place (M/W)', 'Place (AC)',\n",
    "       'Place (overall)', 'Finish time', 'Race state', 'Last Split',\n",
    "       'Start time', 'Pred. Finish (Time of Day)', 'other', '5K', '10K', '15K',\n",
    "       '20K', 'HALF', '25K', '30K', '35K', '40K', 'Finish time.1']\n",
    "df = df17[cols]\n",
    "df = df.drop([177558, 181991, 182822])"
   ]
  },
  {
   "cell_type": "code",
   "execution_count": 3,
   "metadata": {},
   "outputs": [
    {
     "name": "stdout",
     "output_type": "stream",
     "text": [
      "5K\n",
      "10K\n",
      "15K\n",
      "20K\n",
      "HALF\n",
      "25K\n",
      "30K\n",
      "35K\n",
      "40K\n",
      "Finish time.1\n"
     ]
    }
   ],
   "source": [
    "t = []\n",
    "splits = [\"5K\", \"10K\", \"15K\", \"20K\", \"HALF\", \"25K\", \"30K\", \"35K\", \"40K\", \"Finish time.1\"]\n",
    "other = cols\n",
    "\n",
    "for item in other:\n",
    "    t.append((\"Runner\", item))\n",
    "for split in splits:\n",
    "    print(split)\n",
    "    df[split] = df[split].apply(literal_eval)\n",
    "    \n",
    "    stats = ['Time Of Day', 'Time', 'Diff', 'min/km', 'km/h', 'Place']\n",
    "    stats2 = []\n",
    "    for item in stats:\n",
    "        stats2.append(split + \": \" + item)\n",
    "    stats = stats2\n",
    "    \n",
    "    df[stats] = pd.DataFrame(df[split].values.tolist(), index= df.index)\n",
    "    \n",
    "    #create column names\n",
    "    for item in ['Time Of Day', 'Time', 'Diff', 'min/km', 'km/h', 'Place']:\n",
    "        t.append((split, item))\n",
    "\n",
    "df.columns = pd.MultiIndex.from_tuples(t)"
   ]
  },
  {
   "cell_type": "code",
   "execution_count": 4,
   "metadata": {},
   "outputs": [],
   "source": [
    "warwick = ['Warwick Athletics & XC', 'University of Warwick Athletics & XC Club',\n",
    "           'Run Warwick', 'University of Warwick']"
   ]
  },
  {
   "cell_type": "code",
   "execution_count": 5,
   "metadata": {},
   "outputs": [],
   "source": [
    "def set_gender(bool):\n",
    "    if bool:\n",
    "        return \"M\"\n",
    "    else:\n",
    "        return \"F\"\n",
    "\n",
    "df[(\"Runner\",\"Gender\")] = df[(\"Runner\", \"Place (M/W)\")] > df[(\"Runner\",\"Place (overall)\")] - df[(\"Runner\", \"Place (M/W)\")]\n",
    "df[(\"Runner\",\"Gender\")] = df[(\"Runner\",\"Gender\")].apply(set_gender)\n",
    "\n",
    "def extract_nation(name):\n",
    "    if name == \"noname\":\n",
    "        return \"missing\"\n",
    "    return name.split()[-1][1:4]\n",
    "    \n",
    "\n",
    "df[(\"Runner\",\"Nation\")] = df[(\"Runner\",\"Name\")].apply(extract_nation)\n",
    "df[(\"Runner\",\"Name\")]\n",
    "\n",
    "def clean_name(name):\n",
    "    name = word_tokenize(name)\n",
    "    name = name[2] + \" \" + name[0]\n",
    "    return name.upper()\n",
    "\n",
    "df[(\"Runner\",\"Name\")] = df[(\"Runner\",\"Name\")].apply(clean_name)\n",
    "df.replace(\"-\", np.nan, inplace = True)"
   ]
  },
  {
   "cell_type": "code",
   "execution_count": 6,
   "metadata": {},
   "outputs": [],
   "source": [
    "def string_to_time(string):\n",
    "    #print(string)\n",
    "    if type(string) == float:\n",
    "        return None\n",
    "    elif len(string) == 5:\n",
    "        string = \"00:\" + string\n",
    "    elif string == \"-\":\n",
    "        return None\n",
    "    hours = string[:2]    \n",
    "    mins = string[3:5]\n",
    "    secs = string[6:8]\n",
    "    try:\n",
    "        time = int(hours) + (int(mins) / 60) + (int(secs) / 3600)\n",
    "    except (ValueError):\n",
    "        return None\n",
    "    return time\n",
    "\n",
    "def time_to_string(time):\n",
    "    hours = int(time)\n",
    "    mins = int(60 * (float(time) - float(hours)))\n",
    "    secs = 60 * (float(time) - float(hours)) - float(mins)\n",
    "    secs = int(60 * secs)\n",
    "    if hours < 10:\n",
    "        hours = \"0\" + str(hours)\n",
    "    if mins < 10:\n",
    "        mins = \"0\" + str(mins)\n",
    "    if secs < 10:\n",
    "        secs = \"0\" + str(secs)\n",
    "    return \"%s:%s:%s\" % (hours, mins, secs)"
   ]
  },
  {
   "cell_type": "code",
   "execution_count": 7,
   "metadata": {},
   "outputs": [
    {
     "name": "stdout",
     "output_type": "stream",
     "text": [
      "5K\n",
      "10K\n",
      "15K\n",
      "20K\n",
      "21.1K\n",
      "25K\n",
      "30K\n",
      "35K\n",
      "40K\n",
      "42.195K\n",
      "Finish\n",
      "done\n"
     ]
    }
   ],
   "source": [
    "splits = ['5K', '10K', '15K', '20K','HALF', '25K', '30K', '35K', '40K', 'Finish time.1']\n",
    "runners = [\"Name\", \"Year\", \"Gender\", \"Nation\", \"Place (M/W)\", 'Finish time']\n",
    "diff = [(split, \"Diff\") for split in splits]\n",
    "other = [(\"Runner\", runner) for runner in runners]\n",
    "cols = other + diff\n",
    "h = df[cols].copy()\n",
    "h.columns = runners + splits\n",
    "h.rename(columns={'Finish time.1':'42.195K',\n",
    "                  'HALF':'21.1K',\n",
    "                  'Finish time':'Finish'}, inplace=True)\n",
    "\n",
    "def convert_time(timestring):\n",
    "    try:\n",
    "        time = pd.to_datetime(timestring, format='%M:%S')\n",
    "    except (ValueError):\n",
    "        time = pd.to_datetime(timestring, format='%H:%M:%S', errors = \"coerce\")\n",
    "    return time\n",
    "        \n",
    "for column in ['5K', '10K', '15K', '20K', '21.1K', '25K', '30K', '35K', '40K', '42.195K', 'Finish']:\n",
    "    print(column)\n",
    "    h[column] = h[column].apply(convert_time)#.dt.strftime(\"%H:%M:%S\")\n",
    "print(\"done\")\n"
   ]
  },
  {
   "cell_type": "code",
   "execution_count": 8,
   "metadata": {},
   "outputs": [
    {
     "data": {
      "text/html": [
       "<div>\n",
       "<style scoped>\n",
       "    .dataframe tbody tr th:only-of-type {\n",
       "        vertical-align: middle;\n",
       "    }\n",
       "\n",
       "    .dataframe tbody tr th {\n",
       "        vertical-align: top;\n",
       "    }\n",
       "\n",
       "    .dataframe thead th {\n",
       "        text-align: right;\n",
       "    }\n",
       "</style>\n",
       "<table border=\"1\" class=\"dataframe\">\n",
       "  <thead>\n",
       "    <tr style=\"text-align: right;\">\n",
       "      <th></th>\n",
       "      <th>Name</th>\n",
       "      <th>Year</th>\n",
       "      <th>Gender</th>\n",
       "      <th>Nation</th>\n",
       "      <th>Place (M/W)</th>\n",
       "      <th>Finish</th>\n",
       "      <th>5K</th>\n",
       "      <th>10K</th>\n",
       "      <th>15K</th>\n",
       "      <th>20K</th>\n",
       "      <th>21.1K</th>\n",
       "      <th>25K</th>\n",
       "      <th>30K</th>\n",
       "      <th>35K</th>\n",
       "      <th>40K</th>\n",
       "      <th>42.195K</th>\n",
       "    </tr>\n",
       "  </thead>\n",
       "  <tbody>\n",
       "    <tr>\n",
       "      <th>0</th>\n",
       "      <td>NICOLA DUNCAN</td>\n",
       "      <td>2014</td>\n",
       "      <td>F</td>\n",
       "      <td>IRL</td>\n",
       "      <td>1.0</td>\n",
       "      <td>1900-01-01 02:33:28</td>\n",
       "      <td>1900-01-01 00:17:45</td>\n",
       "      <td>1900-01-01 00:17:55</td>\n",
       "      <td>1900-01-01 00:18:01</td>\n",
       "      <td>1900-01-01 00:18:04</td>\n",
       "      <td>1900-01-01 00:03:56</td>\n",
       "      <td>1900-01-01 00:14:07</td>\n",
       "      <td>1900-01-01 00:18:24</td>\n",
       "      <td>1900-01-01 00:18:34</td>\n",
       "      <td>1900-01-01 00:18:36</td>\n",
       "      <td>1900-01-01 00:08:10</td>\n",
       "    </tr>\n",
       "    <tr>\n",
       "      <th>1</th>\n",
       "      <td>STEVEN WAY</td>\n",
       "      <td>2014</td>\n",
       "      <td>M</td>\n",
       "      <td>GBR</td>\n",
       "      <td>1.0</td>\n",
       "      <td>1900-01-01 02:16:27</td>\n",
       "      <td>1900-01-01 00:15:55</td>\n",
       "      <td>1900-01-01 00:16:04</td>\n",
       "      <td>1900-01-01 00:15:56</td>\n",
       "      <td>1900-01-01 00:16:00</td>\n",
       "      <td>1900-01-01 00:03:29</td>\n",
       "      <td>1900-01-01 00:12:31</td>\n",
       "      <td>1900-01-01 00:16:19</td>\n",
       "      <td>1900-01-01 00:16:27</td>\n",
       "      <td>1900-01-01 00:16:37</td>\n",
       "      <td>1900-01-01 00:07:15</td>\n",
       "    </tr>\n",
       "    <tr>\n",
       "      <th>2</th>\n",
       "      <td>JULIE BRISCOE</td>\n",
       "      <td>2014</td>\n",
       "      <td>F</td>\n",
       "      <td>GBR</td>\n",
       "      <td>2.0</td>\n",
       "      <td>1900-01-01 02:39:43</td>\n",
       "      <td>1900-01-01 00:18:21</td>\n",
       "      <td>1900-01-01 00:18:24</td>\n",
       "      <td>1900-01-01 00:18:34</td>\n",
       "      <td>1900-01-01 00:18:39</td>\n",
       "      <td>1900-01-01 00:04:06</td>\n",
       "      <td>1900-01-01 00:14:36</td>\n",
       "      <td>1900-01-01 00:19:09</td>\n",
       "      <td>1900-01-01 00:19:35</td>\n",
       "      <td>1900-01-01 00:19:50</td>\n",
       "      <td>1900-01-01 00:08:34</td>\n",
       "    </tr>\n",
       "    <tr>\n",
       "      <th>3</th>\n",
       "      <td>JOHN GILBERT</td>\n",
       "      <td>2014</td>\n",
       "      <td>M</td>\n",
       "      <td>GBR</td>\n",
       "      <td>2.0</td>\n",
       "      <td>1900-01-01 02:16:46</td>\n",
       "      <td>1900-01-01 00:15:55</td>\n",
       "      <td>1900-01-01 00:16:03</td>\n",
       "      <td>1900-01-01 00:15:56</td>\n",
       "      <td>1900-01-01 00:16:01</td>\n",
       "      <td>1900-01-01 00:03:29</td>\n",
       "      <td>1900-01-01 00:12:31</td>\n",
       "      <td>1900-01-01 00:16:24</td>\n",
       "      <td>1900-01-01 00:16:35</td>\n",
       "      <td>1900-01-01 00:16:41</td>\n",
       "      <td>1900-01-01 00:07:16</td>\n",
       "    </tr>\n",
       "    <tr>\n",
       "      <th>4</th>\n",
       "      <td>SARA BIRD</td>\n",
       "      <td>2014</td>\n",
       "      <td>F</td>\n",
       "      <td>GBR</td>\n",
       "      <td>3.0</td>\n",
       "      <td>1900-01-01 02:39:55</td>\n",
       "      <td>1900-01-01 00:18:33</td>\n",
       "      <td>1900-01-01 00:18:52</td>\n",
       "      <td>1900-01-01 00:18:46</td>\n",
       "      <td>1900-01-01 00:18:57</td>\n",
       "      <td>1900-01-01 00:04:06</td>\n",
       "      <td>1900-01-01 00:14:29</td>\n",
       "      <td>1900-01-01 00:19:06</td>\n",
       "      <td>1900-01-01 00:19:22</td>\n",
       "      <td>1900-01-01 00:19:26</td>\n",
       "      <td>1900-01-01 00:08:23</td>\n",
       "    </tr>\n",
       "  </tbody>\n",
       "</table>\n",
       "</div>"
      ],
      "text/plain": [
       "            Name  Year Gender Nation  Place (M/W)              Finish  \\\n",
       "0  NICOLA DUNCAN  2014      F    IRL          1.0 1900-01-01 02:33:28   \n",
       "1     STEVEN WAY  2014      M    GBR          1.0 1900-01-01 02:16:27   \n",
       "2  JULIE BRISCOE  2014      F    GBR          2.0 1900-01-01 02:39:43   \n",
       "3   JOHN GILBERT  2014      M    GBR          2.0 1900-01-01 02:16:46   \n",
       "4      SARA BIRD  2014      F    GBR          3.0 1900-01-01 02:39:55   \n",
       "\n",
       "                   5K                 10K                 15K  \\\n",
       "0 1900-01-01 00:17:45 1900-01-01 00:17:55 1900-01-01 00:18:01   \n",
       "1 1900-01-01 00:15:55 1900-01-01 00:16:04 1900-01-01 00:15:56   \n",
       "2 1900-01-01 00:18:21 1900-01-01 00:18:24 1900-01-01 00:18:34   \n",
       "3 1900-01-01 00:15:55 1900-01-01 00:16:03 1900-01-01 00:15:56   \n",
       "4 1900-01-01 00:18:33 1900-01-01 00:18:52 1900-01-01 00:18:46   \n",
       "\n",
       "                  20K               21.1K                 25K  \\\n",
       "0 1900-01-01 00:18:04 1900-01-01 00:03:56 1900-01-01 00:14:07   \n",
       "1 1900-01-01 00:16:00 1900-01-01 00:03:29 1900-01-01 00:12:31   \n",
       "2 1900-01-01 00:18:39 1900-01-01 00:04:06 1900-01-01 00:14:36   \n",
       "3 1900-01-01 00:16:01 1900-01-01 00:03:29 1900-01-01 00:12:31   \n",
       "4 1900-01-01 00:18:57 1900-01-01 00:04:06 1900-01-01 00:14:29   \n",
       "\n",
       "                  30K                 35K                 40K  \\\n",
       "0 1900-01-01 00:18:24 1900-01-01 00:18:34 1900-01-01 00:18:36   \n",
       "1 1900-01-01 00:16:19 1900-01-01 00:16:27 1900-01-01 00:16:37   \n",
       "2 1900-01-01 00:19:09 1900-01-01 00:19:35 1900-01-01 00:19:50   \n",
       "3 1900-01-01 00:16:24 1900-01-01 00:16:35 1900-01-01 00:16:41   \n",
       "4 1900-01-01 00:19:06 1900-01-01 00:19:22 1900-01-01 00:19:26   \n",
       "\n",
       "              42.195K  \n",
       "0 1900-01-01 00:08:10  \n",
       "1 1900-01-01 00:07:15  \n",
       "2 1900-01-01 00:08:34  \n",
       "3 1900-01-01 00:07:16  \n",
       "4 1900-01-01 00:08:23  "
      ]
     },
     "execution_count": 8,
     "metadata": {},
     "output_type": "execute_result"
    }
   ],
   "source": [
    "h.head()"
   ]
  },
  {
   "cell_type": "code",
   "execution_count": 9,
   "metadata": {},
   "outputs": [
    {
     "data": {
      "text/html": [
       "<div>\n",
       "<style scoped>\n",
       "    .dataframe tbody tr th:only-of-type {\n",
       "        vertical-align: middle;\n",
       "    }\n",
       "\n",
       "    .dataframe tbody tr th {\n",
       "        vertical-align: top;\n",
       "    }\n",
       "\n",
       "    .dataframe thead th {\n",
       "        text-align: right;\n",
       "    }\n",
       "</style>\n",
       "<table border=\"1\" class=\"dataframe\">\n",
       "  <thead>\n",
       "    <tr style=\"text-align: right;\">\n",
       "      <th></th>\n",
       "      <th>Name</th>\n",
       "      <th>Year</th>\n",
       "      <th>Gender</th>\n",
       "      <th>Nation</th>\n",
       "      <th>Place (M/W)</th>\n",
       "      <th>Finish</th>\n",
       "      <th>5K</th>\n",
       "      <th>10K</th>\n",
       "      <th>15K</th>\n",
       "      <th>20K</th>\n",
       "      <th>21.1K</th>\n",
       "      <th>25K</th>\n",
       "      <th>30K</th>\n",
       "      <th>35K</th>\n",
       "      <th>40K</th>\n",
       "      <th>42.195K</th>\n",
       "    </tr>\n",
       "  </thead>\n",
       "  <tbody>\n",
       "    <tr>\n",
       "      <th>73967</th>\n",
       "      <td>PAUL MARTELLETTI</td>\n",
       "      <td>2016</td>\n",
       "      <td>M</td>\n",
       "      <td>GBR</td>\n",
       "      <td>2.0</td>\n",
       "      <td>1900-01-01 02:17:26</td>\n",
       "      <td>1900-01-01 00:15:51</td>\n",
       "      <td>1900-01-01 00:15:56</td>\n",
       "      <td>1900-01-01 00:16:27</td>\n",
       "      <td>1900-01-01 00:16:40</td>\n",
       "      <td>1900-01-01 00:03:37</td>\n",
       "      <td>1900-01-01 00:12:46</td>\n",
       "      <td>1900-01-01 00:16:33</td>\n",
       "      <td>1900-01-01 00:16:21</td>\n",
       "      <td>1900-01-01 00:16:15</td>\n",
       "      <td>1900-01-01 00:07:05</td>\n",
       "    </tr>\n",
       "  </tbody>\n",
       "</table>\n",
       "</div>"
      ],
      "text/plain": [
       "                   Name  Year Gender Nation  Place (M/W)              Finish  \\\n",
       "73967  PAUL MARTELLETTI  2016      M    GBR          2.0 1900-01-01 02:17:26   \n",
       "\n",
       "                       5K                 10K                 15K  \\\n",
       "73967 1900-01-01 00:15:51 1900-01-01 00:15:56 1900-01-01 00:16:27   \n",
       "\n",
       "                      20K               21.1K                 25K  \\\n",
       "73967 1900-01-01 00:16:40 1900-01-01 00:03:37 1900-01-01 00:12:46   \n",
       "\n",
       "                      30K                 35K                 40K  \\\n",
       "73967 1900-01-01 00:16:33 1900-01-01 00:16:21 1900-01-01 00:16:15   \n",
       "\n",
       "                  42.195K  \n",
       "73967 1900-01-01 00:07:05  "
      ]
     },
     "execution_count": 9,
     "metadata": {},
     "output_type": "execute_result"
    }
   ],
   "source": [
    "h[h[\"42.195K\"] == h[\"42.195K\"].min()]"
   ]
  },
  {
   "cell_type": "code",
   "execution_count": 10,
   "metadata": {},
   "outputs": [
    {
     "data": {
      "text/plain": [
       "Timestamp('1900-01-01 04:32:36.504719164')"
      ]
     },
     "execution_count": 10,
     "metadata": {},
     "output_type": "execute_result"
    }
   ],
   "source": [
    "finish = h.Finish\n",
    "m = finish.min()\n",
    "mean = (m + (finish - m).mean())\n",
    "#mean = mean.pd.to_datetime()\n",
    "mean"
   ]
  },
  {
   "cell_type": "code",
   "execution_count": 11,
   "metadata": {},
   "outputs": [
    {
     "name": "stdout",
     "output_type": "stream",
     "text": [
      "(192301, 86)\n",
      "(190040, 86)\n"
     ]
    }
   ],
   "source": [
    "cols_to_comp = [(\"Runner\",\"Name\"), (\"Runner\",\"Year\"), (\"Runner\",\"Finish time\")]\n",
    "print(df.shape)\n",
    "df.drop_duplicates(subset=cols_to_comp, inplace = True)\n",
    "print(df.shape)"
   ]
  },
  {
   "cell_type": "code",
   "execution_count": 12,
   "metadata": {},
   "outputs": [
    {
     "data": {
      "text/plain": [
       "(Runner, Year)  (Runner, Gender)\n",
       "2014            F                   13270\n",
       "                M                   22607\n",
       "2015            F                   14375\n",
       "                M                   21482\n",
       "2016            F                   15029\n",
       "                M                   23908\n",
       "2017            F                   15464\n",
       "                M                   23812\n",
       "2018            F                   16417\n",
       "                M                   23676\n",
       "Name: (Runner, Name), dtype: int64"
      ]
     },
     "execution_count": 12,
     "metadata": {},
     "output_type": "execute_result"
    }
   ],
   "source": [
    "cols_to_group = [(\"Runner\",\"Year\"), (\"Runner\",\"Gender\")]\n",
    "df.groupby(cols_to_group).count()[(\"Runner\",\"Name\")]"
   ]
  },
  {
   "cell_type": "code",
   "execution_count": 13,
   "metadata": {},
   "outputs": [
    {
     "data": {
      "text/plain": [
       "193439"
      ]
     },
     "execution_count": 13,
     "metadata": {},
     "output_type": "execute_result"
    }
   ],
   "source": [
    "39276 + 35857 + 38937 + 39276 + 40093"
   ]
  },
  {
   "cell_type": "code",
   "execution_count": 14,
   "metadata": {},
   "outputs": [
    {
     "data": {
      "text/html": [
       "<div>\n",
       "<style scoped>\n",
       "    .dataframe tbody tr th:only-of-type {\n",
       "        vertical-align: middle;\n",
       "    }\n",
       "\n",
       "    .dataframe tbody tr th {\n",
       "        vertical-align: top;\n",
       "    }\n",
       "\n",
       "    .dataframe thead tr th {\n",
       "        text-align: left;\n",
       "    }\n",
       "\n",
       "    .dataframe thead tr:last-of-type th {\n",
       "        text-align: right;\n",
       "    }\n",
       "</style>\n",
       "<table border=\"1\" class=\"dataframe\">\n",
       "  <thead>\n",
       "    <tr>\n",
       "      <th></th>\n",
       "      <th colspan=\"10\" halign=\"left\">Runner</th>\n",
       "      <th>...</th>\n",
       "      <th colspan=\"2\" halign=\"left\">40K</th>\n",
       "      <th colspan=\"6\" halign=\"left\">Finish time.1</th>\n",
       "      <th colspan=\"2\" halign=\"left\">Runner</th>\n",
       "    </tr>\n",
       "    <tr>\n",
       "      <th></th>\n",
       "      <th>Name</th>\n",
       "      <th>Runner no</th>\n",
       "      <th>Year</th>\n",
       "      <th>Club</th>\n",
       "      <th>Category</th>\n",
       "      <th>Place (M/W)</th>\n",
       "      <th>Place (AC)</th>\n",
       "      <th>Place (overall)</th>\n",
       "      <th>Finish time</th>\n",
       "      <th>Race state</th>\n",
       "      <th>...</th>\n",
       "      <th>km/h</th>\n",
       "      <th>Place</th>\n",
       "      <th>Time Of Day</th>\n",
       "      <th>Time</th>\n",
       "      <th>Diff</th>\n",
       "      <th>min/km</th>\n",
       "      <th>km/h</th>\n",
       "      <th>Place</th>\n",
       "      <th>Gender</th>\n",
       "      <th>Nation</th>\n",
       "    </tr>\n",
       "    <tr>\n",
       "      <th>(Runner, Year)</th>\n",
       "      <th></th>\n",
       "      <th></th>\n",
       "      <th></th>\n",
       "      <th></th>\n",
       "      <th></th>\n",
       "      <th></th>\n",
       "      <th></th>\n",
       "      <th></th>\n",
       "      <th></th>\n",
       "      <th></th>\n",
       "      <th></th>\n",
       "      <th></th>\n",
       "      <th></th>\n",
       "      <th></th>\n",
       "      <th></th>\n",
       "      <th></th>\n",
       "      <th></th>\n",
       "      <th></th>\n",
       "      <th></th>\n",
       "      <th></th>\n",
       "      <th></th>\n",
       "    </tr>\n",
       "  </thead>\n",
       "  <tbody>\n",
       "    <tr>\n",
       "      <th>2014</th>\n",
       "      <td>33968</td>\n",
       "      <td>35877</td>\n",
       "      <td>1</td>\n",
       "      <td>2843</td>\n",
       "      <td>8</td>\n",
       "      <td>22534</td>\n",
       "      <td>11999</td>\n",
       "      <td>35313</td>\n",
       "      <td>12597</td>\n",
       "      <td>1</td>\n",
       "      <td>...</td>\n",
       "      <td>1201</td>\n",
       "      <td>0</td>\n",
       "      <td>13518</td>\n",
       "      <td>12597</td>\n",
       "      <td>1218</td>\n",
       "      <td>618</td>\n",
       "      <td>1240</td>\n",
       "      <td>22534</td>\n",
       "      <td>2</td>\n",
       "      <td>105</td>\n",
       "    </tr>\n",
       "    <tr>\n",
       "      <th>2015</th>\n",
       "      <td>33983</td>\n",
       "      <td>35856</td>\n",
       "      <td>1</td>\n",
       "      <td>3944</td>\n",
       "      <td>8</td>\n",
       "      <td>21415</td>\n",
       "      <td>11094</td>\n",
       "      <td>35237</td>\n",
       "      <td>11921</td>\n",
       "      <td>1</td>\n",
       "      <td>...</td>\n",
       "      <td>1249</td>\n",
       "      <td>0</td>\n",
       "      <td>12683</td>\n",
       "      <td>11921</td>\n",
       "      <td>1173</td>\n",
       "      <td>593</td>\n",
       "      <td>1259</td>\n",
       "      <td>21415</td>\n",
       "      <td>2</td>\n",
       "      <td>96</td>\n",
       "    </tr>\n",
       "    <tr>\n",
       "      <th>2016</th>\n",
       "      <td>36806</td>\n",
       "      <td>38937</td>\n",
       "      <td>1</td>\n",
       "      <td>3727</td>\n",
       "      <td>8</td>\n",
       "      <td>23831</td>\n",
       "      <td>11998</td>\n",
       "      <td>38347</td>\n",
       "      <td>12992</td>\n",
       "      <td>1</td>\n",
       "      <td>...</td>\n",
       "      <td>1254</td>\n",
       "      <td>0</td>\n",
       "      <td>14021</td>\n",
       "      <td>12992</td>\n",
       "      <td>1196</td>\n",
       "      <td>595</td>\n",
       "      <td>1266</td>\n",
       "      <td>23831</td>\n",
       "      <td>2</td>\n",
       "      <td>107</td>\n",
       "    </tr>\n",
       "    <tr>\n",
       "      <th>2017</th>\n",
       "      <td>37171</td>\n",
       "      <td>39276</td>\n",
       "      <td>1</td>\n",
       "      <td>3865</td>\n",
       "      <td>8</td>\n",
       "      <td>23760</td>\n",
       "      <td>11599</td>\n",
       "      <td>38620</td>\n",
       "      <td>13419</td>\n",
       "      <td>1</td>\n",
       "      <td>...</td>\n",
       "      <td>1262</td>\n",
       "      <td>0</td>\n",
       "      <td>14322</td>\n",
       "      <td>13419</td>\n",
       "      <td>1230</td>\n",
       "      <td>613</td>\n",
       "      <td>1265</td>\n",
       "      <td>23760</td>\n",
       "      <td>2</td>\n",
       "      <td>112</td>\n",
       "    </tr>\n",
       "    <tr>\n",
       "      <th>2018</th>\n",
       "      <td>38089</td>\n",
       "      <td>40093</td>\n",
       "      <td>1</td>\n",
       "      <td>1520</td>\n",
       "      <td>11</td>\n",
       "      <td>23632</td>\n",
       "      <td>11264</td>\n",
       "      <td>39518</td>\n",
       "      <td>14267</td>\n",
       "      <td>1</td>\n",
       "      <td>...</td>\n",
       "      <td>1219</td>\n",
       "      <td>0</td>\n",
       "      <td>16010</td>\n",
       "      <td>14267</td>\n",
       "      <td>1321</td>\n",
       "      <td>671</td>\n",
       "      <td>1220</td>\n",
       "      <td>23632</td>\n",
       "      <td>2</td>\n",
       "      <td>125</td>\n",
       "    </tr>\n",
       "  </tbody>\n",
       "</table>\n",
       "<p>5 rows × 86 columns</p>\n",
       "</div>"
      ],
      "text/plain": [
       "               Runner                                                       \\\n",
       "                 Name Runner no Year  Club Category Place (M/W) Place (AC)   \n",
       "(Runner, Year)                                                               \n",
       "2014            33968     35877    1  2843        8       22534      11999   \n",
       "2015            33983     35856    1  3944        8       21415      11094   \n",
       "2016            36806     38937    1  3727        8       23831      11998   \n",
       "2017            37171     39276    1  3865        8       23760      11599   \n",
       "2018            38089     40093    1  1520       11       23632      11264   \n",
       "\n",
       "                                                       ...     40K        \\\n",
       "               Place (overall) Finish time Race state  ...    km/h Place   \n",
       "(Runner, Year)                                         ...                 \n",
       "2014                     35313       12597          1  ...    1201     0   \n",
       "2015                     35237       11921          1  ...    1249     0   \n",
       "2016                     38347       12992          1  ...    1254     0   \n",
       "2017                     38620       13419          1  ...    1262     0   \n",
       "2018                     39518       14267          1  ...    1219     0   \n",
       "\n",
       "               Finish time.1                                  Runner         \n",
       "                 Time Of Day   Time  Diff min/km  km/h  Place Gender Nation  \n",
       "(Runner, Year)                                                               \n",
       "2014                   13518  12597  1218    618  1240  22534      2    105  \n",
       "2015                   12683  11921  1173    593  1259  21415      2     96  \n",
       "2016                   14021  12992  1196    595  1266  23831      2    107  \n",
       "2017                   14322  13419  1230    613  1265  23760      2    112  \n",
       "2018                   16010  14267  1321    671  1220  23632      2    125  \n",
       "\n",
       "[5 rows x 86 columns]"
      ]
     },
     "execution_count": 14,
     "metadata": {},
     "output_type": "execute_result"
    }
   ],
   "source": [
    "df.groupby((\"Runner\",\"Year\")).nunique()"
   ]
  },
  {
   "cell_type": "code",
   "execution_count": 15,
   "metadata": {},
   "outputs": [
    {
     "data": {
      "text/plain": [
       "170"
      ]
     },
     "execution_count": 15,
     "metadata": {},
     "output_type": "execute_result"
    }
   ],
   "source": [
    "df[(\"Runner\",\"Nation\")].nunique()"
   ]
  },
  {
   "cell_type": "code",
   "execution_count": 16,
   "metadata": {},
   "outputs": [
    {
     "data": {
      "text/html": [
       "<div>\n",
       "<style scoped>\n",
       "    .dataframe tbody tr th:only-of-type {\n",
       "        vertical-align: middle;\n",
       "    }\n",
       "\n",
       "    .dataframe tbody tr th {\n",
       "        vertical-align: top;\n",
       "    }\n",
       "\n",
       "    .dataframe thead th {\n",
       "        text-align: right;\n",
       "    }\n",
       "</style>\n",
       "<table border=\"1\" class=\"dataframe\">\n",
       "  <thead>\n",
       "    <tr style=\"text-align: right;\">\n",
       "      <th></th>\n",
       "      <th>Name</th>\n",
       "      <th>Gender</th>\n",
       "      <th>Nation</th>\n",
       "      <th>Year</th>\n",
       "      <th>Category</th>\n",
       "      <th>Finish time</th>\n",
       "    </tr>\n",
       "  </thead>\n",
       "  <tbody>\n",
       "    <tr>\n",
       "      <th>157050</th>\n",
       "      <td>CHRIS DICK</td>\n",
       "      <td>M</td>\n",
       "      <td>GBR</td>\n",
       "      <td>2018</td>\n",
       "      <td>18-39</td>\n",
       "      <td>03:16:38</td>\n",
       "    </tr>\n",
       "  </tbody>\n",
       "</table>\n",
       "</div>"
      ],
      "text/plain": [
       "              Name Gender Nation  Year Category Finish time\n",
       "157050  CHRIS DICK      M    GBR  2018    18-39    03:16:38"
      ]
     },
     "execution_count": 16,
     "metadata": {},
     "output_type": "execute_result"
    }
   ],
   "source": [
    "cd = df[df[(\"Runner\",\"Name\")] == \"CHRIS DICK\"].Runner\n",
    "cd = cd[['Name', 'Gender', 'Nation', 'Year', 'Category', 'Finish time']]\n",
    "cd"
   ]
  },
  {
   "cell_type": "code",
   "execution_count": 17,
   "metadata": {},
   "outputs": [
    {
     "data": {
      "text/plain": [
       "'\\\\begin{tabular}{llllrll}\\n\\\\toprule\\n{} &        Name & Gender & Nation &  Year & Category & Finish time \\\\\\\\\\n\\\\midrule\\n157050 &  CHRIS DICK &      M &    GBR &  2018 &    18-39 &    03:16:38 \\\\\\\\\\n\\\\bottomrule\\n\\\\end{tabular}\\n'"
      ]
     },
     "execution_count": 17,
     "metadata": {},
     "output_type": "execute_result"
    }
   ],
   "source": [
    "cd.to_latex()"
   ]
  },
  {
   "cell_type": "code",
   "execution_count": 18,
   "metadata": {},
   "outputs": [
    {
     "data": {
      "text/html": [
       "<div>\n",
       "<style scoped>\n",
       "    .dataframe tbody tr th:only-of-type {\n",
       "        vertical-align: middle;\n",
       "    }\n",
       "\n",
       "    .dataframe tbody tr th {\n",
       "        vertical-align: top;\n",
       "    }\n",
       "\n",
       "    .dataframe thead th {\n",
       "        text-align: right;\n",
       "    }\n",
       "</style>\n",
       "<table border=\"1\" class=\"dataframe\">\n",
       "  <thead>\n",
       "    <tr style=\"text-align: right;\">\n",
       "      <th></th>\n",
       "      <th>Time Of Day</th>\n",
       "      <th>Time</th>\n",
       "      <th>Diff</th>\n",
       "      <th>min/km</th>\n",
       "      <th>km/h</th>\n",
       "      <th>Place</th>\n",
       "    </tr>\n",
       "  </thead>\n",
       "  <tbody>\n",
       "    <tr>\n",
       "      <th>157050</th>\n",
       "      <td>10:46:01</td>\n",
       "      <td>00:42:55</td>\n",
       "      <td>21:38</td>\n",
       "      <td>04:20</td>\n",
       "      <td>13.88</td>\n",
       "      <td>NaN</td>\n",
       "    </tr>\n",
       "  </tbody>\n",
       "</table>\n",
       "</div>"
      ],
      "text/plain": [
       "       Time Of Day      Time   Diff min/km   km/h  Place\n",
       "157050    10:46:01  00:42:55  21:38  04:20  13.88    NaN"
      ]
     },
     "execution_count": 18,
     "metadata": {},
     "output_type": "execute_result"
    }
   ],
   "source": [
    "cd = df[df[(\"Runner\",\"Name\")] == \"CHRIS DICK\"][\"10K\"]\n",
    "#cd = cd[['Name', 'Gender', 'Nation', 'Year', 'Category', 'Finish time']]\n",
    "cd"
   ]
  },
  {
   "cell_type": "code",
   "execution_count": 19,
   "metadata": {},
   "outputs": [
    {
     "data": {
      "text/plain": [
       "'\\\\begin{tabular}{llllllr}\\n\\\\toprule\\n{} & Time Of Day &      Time &   Diff & min/km &   km/h &  Place \\\\\\\\\\n\\\\midrule\\n157050 &    10:46:01 &  00:42:55 &  21:38 &  04:20 &  13.88 &    NaN \\\\\\\\\\n\\\\bottomrule\\n\\\\end{tabular}\\n'"
      ]
     },
     "execution_count": 19,
     "metadata": {},
     "output_type": "execute_result"
    }
   ],
   "source": [
    "cd.to_latex()"
   ]
  },
  {
   "cell_type": "code",
   "execution_count": 20,
   "metadata": {},
   "outputs": [
    {
     "data": {
      "text/html": [
       "<div>\n",
       "<style scoped>\n",
       "    .dataframe tbody tr th:only-of-type {\n",
       "        vertical-align: middle;\n",
       "    }\n",
       "\n",
       "    .dataframe tbody tr th {\n",
       "        vertical-align: top;\n",
       "    }\n",
       "\n",
       "    .dataframe thead th {\n",
       "        text-align: right;\n",
       "    }\n",
       "</style>\n",
       "<table border=\"1\" class=\"dataframe\">\n",
       "  <thead>\n",
       "    <tr style=\"text-align: right;\">\n",
       "      <th></th>\n",
       "      <th>Place (M/W)</th>\n",
       "    </tr>\n",
       "    <tr>\n",
       "      <th>Year</th>\n",
       "      <th></th>\n",
       "    </tr>\n",
       "  </thead>\n",
       "  <tbody>\n",
       "    <tr>\n",
       "      <th>2014</th>\n",
       "      <td>9804.522086</td>\n",
       "    </tr>\n",
       "    <tr>\n",
       "      <th>2015</th>\n",
       "      <td>9348.610194</td>\n",
       "    </tr>\n",
       "    <tr>\n",
       "      <th>2016</th>\n",
       "      <td>10241.808746</td>\n",
       "    </tr>\n",
       "    <tr>\n",
       "      <th>2017</th>\n",
       "      <td>10264.978338</td>\n",
       "    </tr>\n",
       "    <tr>\n",
       "      <th>2018</th>\n",
       "      <td>10352.160143</td>\n",
       "    </tr>\n",
       "  </tbody>\n",
       "</table>\n",
       "</div>"
      ],
      "text/plain": [
       "       Place (M/W)\n",
       "Year              \n",
       "2014   9804.522086\n",
       "2015   9348.610194\n",
       "2016  10241.808746\n",
       "2017  10264.978338\n",
       "2018  10352.160143"
      ]
     },
     "execution_count": 20,
     "metadata": {},
     "output_type": "execute_result"
    }
   ],
   "source": [
    "h.groupby(\"Year\").mean()"
   ]
  },
  {
   "cell_type": "code",
   "execution_count": 84,
   "metadata": {},
   "outputs": [
    {
     "name": "stdout",
     "output_type": "stream",
     "text": [
      "5K\n",
      "10K\n",
      "15K\n",
      "20K\n",
      "21.1K\n",
      "25K\n",
      "30K\n",
      "35K\n",
      "40K\n",
      "42.195K\n",
      "Finish\n",
      "done\n"
     ]
    }
   ],
   "source": [
    "splits = ['5K', '10K', '15K', '20K', 'HALF', '25K', '30K', '35K', '40K', 'Finish time.1']\n",
    "runners = [\"Name\", \"Year\", \"Gender\", \"Nation\", \"Category\", \"Place (M/W)\", 'Finish time']\n",
    "diff = [(split, \"min/km\") for split in splits]\n",
    "other = [(\"Runner\", runner) for runner in runners]\n",
    "cols = other + diff + [(\"Finish time.1\", \"Time Of Day\")]\n",
    "g = df[cols].copy()\n",
    "g.columns = runners + splits + [\"Time Of Day\"]\n",
    "g.rename(columns={'Finish time.1':'42.195K',\n",
    "                  'HALF':'21.1K',\n",
    "                  'Place (M/W)':'Place',\n",
    "                  'Finish time':'Finish'}, inplace=True)\n",
    "        \n",
    "for column in ['5K', '10K', '15K', '20K', '21.1K', '25K', '30K', '35K', '40K', '42.195K', 'Finish']:\n",
    "    print(column)\n",
    "    g[column] = g[column].apply(string_to_time)#.dt.strftime(\"%H:%M:%S\")\n",
    "print(\"done\")"
   ]
  },
  {
   "cell_type": "code",
   "execution_count": 22,
   "metadata": {},
   "outputs": [
    {
     "data": {
      "text/html": [
       "<div>\n",
       "<style scoped>\n",
       "    .dataframe tbody tr th:only-of-type {\n",
       "        vertical-align: middle;\n",
       "    }\n",
       "\n",
       "    .dataframe tbody tr th {\n",
       "        vertical-align: top;\n",
       "    }\n",
       "\n",
       "    .dataframe thead th {\n",
       "        text-align: right;\n",
       "    }\n",
       "</style>\n",
       "<table border=\"1\" class=\"dataframe\">\n",
       "  <thead>\n",
       "    <tr style=\"text-align: right;\">\n",
       "      <th></th>\n",
       "      <th>Name</th>\n",
       "      <th>Year</th>\n",
       "      <th>Gender</th>\n",
       "      <th>Nation</th>\n",
       "      <th>Category</th>\n",
       "      <th>Place</th>\n",
       "      <th>Finish</th>\n",
       "      <th>5K</th>\n",
       "      <th>10K</th>\n",
       "      <th>15K</th>\n",
       "      <th>20K</th>\n",
       "      <th>21.1K</th>\n",
       "      <th>25K</th>\n",
       "      <th>30K</th>\n",
       "      <th>35K</th>\n",
       "      <th>40K</th>\n",
       "      <th>42.195K</th>\n",
       "      <th>Time Of Day</th>\n",
       "    </tr>\n",
       "  </thead>\n",
       "  <tbody>\n",
       "    <tr>\n",
       "      <th>0</th>\n",
       "      <td>NICOLA DUNCAN</td>\n",
       "      <td>2014</td>\n",
       "      <td>F</td>\n",
       "      <td>IRL</td>\n",
       "      <td>18-39</td>\n",
       "      <td>1.0</td>\n",
       "      <td>2.557778</td>\n",
       "      <td>0.059167</td>\n",
       "      <td>0.059722</td>\n",
       "      <td>0.060278</td>\n",
       "      <td>0.060278</td>\n",
       "      <td>0.059722</td>\n",
       "      <td>0.060278</td>\n",
       "      <td>0.061389</td>\n",
       "      <td>0.061944</td>\n",
       "      <td>0.062222</td>\n",
       "      <td>0.062222</td>\n",
       "      <td>12:33:35</td>\n",
       "    </tr>\n",
       "    <tr>\n",
       "      <th>1</th>\n",
       "      <td>STEVEN WAY</td>\n",
       "      <td>2014</td>\n",
       "      <td>M</td>\n",
       "      <td>GBR</td>\n",
       "      <td>18-39</td>\n",
       "      <td>1.0</td>\n",
       "      <td>2.274167</td>\n",
       "      <td>0.053056</td>\n",
       "      <td>0.053611</td>\n",
       "      <td>0.053333</td>\n",
       "      <td>0.053333</td>\n",
       "      <td>0.053056</td>\n",
       "      <td>0.053611</td>\n",
       "      <td>0.054444</td>\n",
       "      <td>0.055000</td>\n",
       "      <td>0.055556</td>\n",
       "      <td>0.055000</td>\n",
       "      <td>12:16:27</td>\n",
       "    </tr>\n",
       "    <tr>\n",
       "      <th>2</th>\n",
       "      <td>JULIE BRISCOE</td>\n",
       "      <td>2014</td>\n",
       "      <td>F</td>\n",
       "      <td>GBR</td>\n",
       "      <td>18-39</td>\n",
       "      <td>2.0</td>\n",
       "      <td>2.661944</td>\n",
       "      <td>0.061389</td>\n",
       "      <td>0.061389</td>\n",
       "      <td>0.061944</td>\n",
       "      <td>0.062222</td>\n",
       "      <td>0.062222</td>\n",
       "      <td>0.062500</td>\n",
       "      <td>0.063889</td>\n",
       "      <td>0.065278</td>\n",
       "      <td>0.066111</td>\n",
       "      <td>0.065000</td>\n",
       "      <td>12:39:49</td>\n",
       "    </tr>\n",
       "    <tr>\n",
       "      <th>3</th>\n",
       "      <td>JOHN GILBERT</td>\n",
       "      <td>2014</td>\n",
       "      <td>M</td>\n",
       "      <td>GBR</td>\n",
       "      <td>18-39</td>\n",
       "      <td>2.0</td>\n",
       "      <td>2.279444</td>\n",
       "      <td>0.053056</td>\n",
       "      <td>0.053611</td>\n",
       "      <td>0.053333</td>\n",
       "      <td>0.053611</td>\n",
       "      <td>0.052778</td>\n",
       "      <td>0.053611</td>\n",
       "      <td>0.054722</td>\n",
       "      <td>0.055278</td>\n",
       "      <td>0.055833</td>\n",
       "      <td>0.055278</td>\n",
       "      <td>12:16:47</td>\n",
       "    </tr>\n",
       "    <tr>\n",
       "      <th>4</th>\n",
       "      <td>SARA BIRD</td>\n",
       "      <td>2014</td>\n",
       "      <td>F</td>\n",
       "      <td>GBR</td>\n",
       "      <td>18-39</td>\n",
       "      <td>3.0</td>\n",
       "      <td>2.665278</td>\n",
       "      <td>0.061944</td>\n",
       "      <td>0.063056</td>\n",
       "      <td>0.062778</td>\n",
       "      <td>0.063333</td>\n",
       "      <td>0.062222</td>\n",
       "      <td>0.061944</td>\n",
       "      <td>0.063889</td>\n",
       "      <td>0.064722</td>\n",
       "      <td>0.065000</td>\n",
       "      <td>0.063611</td>\n",
       "      <td>12:40:00</td>\n",
       "    </tr>\n",
       "  </tbody>\n",
       "</table>\n",
       "</div>"
      ],
      "text/plain": [
       "            Name  Year Gender Nation Category  Place    Finish        5K  \\\n",
       "0  NICOLA DUNCAN  2014      F    IRL    18-39    1.0  2.557778  0.059167   \n",
       "1     STEVEN WAY  2014      M    GBR    18-39    1.0  2.274167  0.053056   \n",
       "2  JULIE BRISCOE  2014      F    GBR    18-39    2.0  2.661944  0.061389   \n",
       "3   JOHN GILBERT  2014      M    GBR    18-39    2.0  2.279444  0.053056   \n",
       "4      SARA BIRD  2014      F    GBR    18-39    3.0  2.665278  0.061944   \n",
       "\n",
       "        10K       15K       20K     21.1K       25K       30K       35K  \\\n",
       "0  0.059722  0.060278  0.060278  0.059722  0.060278  0.061389  0.061944   \n",
       "1  0.053611  0.053333  0.053333  0.053056  0.053611  0.054444  0.055000   \n",
       "2  0.061389  0.061944  0.062222  0.062222  0.062500  0.063889  0.065278   \n",
       "3  0.053611  0.053333  0.053611  0.052778  0.053611  0.054722  0.055278   \n",
       "4  0.063056  0.062778  0.063333  0.062222  0.061944  0.063889  0.064722   \n",
       "\n",
       "        40K   42.195K Time Of Day  \n",
       "0  0.062222  0.062222    12:33:35  \n",
       "1  0.055556  0.055000    12:16:27  \n",
       "2  0.066111  0.065000    12:39:49  \n",
       "3  0.055833  0.055278    12:16:47  \n",
       "4  0.065000  0.063611    12:40:00  "
      ]
     },
     "execution_count": 22,
     "metadata": {},
     "output_type": "execute_result"
    }
   ],
   "source": [
    "g.head()"
   ]
  },
  {
   "cell_type": "code",
   "execution_count": null,
   "metadata": {},
   "outputs": [],
   "source": []
  },
  {
   "cell_type": "code",
   "execution_count": 23,
   "metadata": {},
   "outputs": [
    {
     "name": "stdout",
     "output_type": "stream",
     "text": [
      "['IRL', 'GBR', 'SLE', 'NZL', 'ESP', 'USA', 'ARG', 'BEL', 'NOR', 'ITA', 'DEN', 'CAN', 'RSA', 'FIN', 'FRA', 'GRE', 'POL', 'LTU', 'AUS', 'POR', 'SUI', 'SLO', 'UKR', 'PAR', 'SWE', 'ISL', 'IMN', 'NED', 'GER', 'MEX', 'CHI', 'LUX', 'ZIM', 'AUT', 'KEN', 'MLT', 'JPN', 'EST', 'SVK', 'BDI', 'HKG', 'LAT', 'IVB', 'THA', 'TAN', 'RUS', 'CZE', 'DOM', 'HUN', 'JEY', 'GIB', 'UAE', 'GUA', 'KAZ', 'BRA', 'SIN', 'CAY', 'IND', 'BOT', 'ROU', 'ISR', 'BER', 'PAN', 'TRI', 'MAS', 'CRO', 'PUR', 'KOR', ')', 'COL', 'PER', 'BAH', 'VEN', 'MAR', 'LBR', 'PHI', 'ANG', 'KUW', 'CHN', 'GHA', 'AND', 'BUL', 'URU', 'GGY', 'KSA', 'AFG', 'CYP', 'STP', 'MDA', 'SRB', 'AZE', 'NEP', 'BRN', 'MON', 'ECU', 'SEY', 'TUV', 'ALB', 'QAT', 'EGY', 'GRN', 'TUR', 'NGR', 'BAN', 'GUI', 'UGA', 'FRO', 'PAK', 'INA', 'UMI', 'IOT', 'SHN', 'BAR', 'MTQ', 'ASA', 'GLP', 'FIJ', 'REU', 'IRI', 'CRC', 'PYF', 'WLF', 'HON', 'NIR', 'SCO', 'ENG', 'WLS', 'PLE', 'MAD', 'TPE', 'MAC', 'BRU', 'TKM', 'UZB', 'DMA', 'BIZ', 'TLS', 'SMR', 'MKD', 'ALA', 'ZAM', 'LIE', 'ARM', 'KOS', 'LIB', 'CIV', 'FLK', 'SRI', 'JOR', 'NFK', 'ETH', 'CGO', 'SUD', 'GEQ', 'MGL', 'CPV', 'NIG', 'SWZ', 'CMR', 'HAI', 'MYA', 'JAM', 'MRI', 'BUR', 'MDV', 'MAW', 'SYR', 'NAM', 'SEN', 'GEO']\n"
     ]
    }
   ],
   "source": [
    "print(g.Nation.unique().tolist())"
   ]
  },
  {
   "cell_type": "code",
   "execution_count": 24,
   "metadata": {},
   "outputs": [
    {
     "name": "stdout",
     "output_type": "stream",
     "text": [
      "\\begin{tabular}{lll}\n",
      "\\toprule\n",
      "{} &    Finish &        5K \\\\\n",
      "\\midrule\n",
      "\\textbf{mean} &  04:32:13 &  00:05:45 \\\\\n",
      "\\textbf{std } &  00:59:59 &  00:01:02 \\\\\n",
      "\\textbf{min } &  02:14:48 &  00:02:53 \\\\\n",
      "\\textbf{25\\% } &  03:48:50 &  00:05:03 \\\\\n",
      "\\textbf{50\\% } &  04:26:49 &  00:05:41 \\\\\n",
      "\\textbf{75\\% } &  05:09:03 &  00:06:23 \\\\\n",
      "\\textbf{max } &  09:33:17 &  00:14:06 \\\\\n",
      "\\bottomrule\n",
      "\\end{tabular}\n",
      "\n"
     ]
    }
   ],
   "source": [
    "desc_g = g.describe()\n",
    "for r in ['mean', 'std', 'min', '25%', '50%', '75%', 'max']:\n",
    "    desc_g.loc[r] = desc_g.loc[r].apply(time_to_string)\n",
    "    \n",
    "print(desc_g[['Finish', '5K']].drop(\"count\").to_latex(bold_rows = True))"
   ]
  },
  {
   "cell_type": "code",
   "execution_count": 25,
   "metadata": {},
   "outputs": [
    {
     "data": {
      "text/plain": [
       "Gender  Year\n",
       "F       2014    4.864141\n",
       "        2015    4.754551\n",
       "        2016    4.808987\n",
       "        2017    4.880656\n",
       "        2018    5.213930\n",
       "M       2014    4.314662\n",
       "        2015    4.066001\n",
       "        2016    4.206614\n",
       "        2017    4.281431\n",
       "        2018    4.586421\n",
       "Name: Finish, dtype: float64"
      ]
     },
     "execution_count": 25,
     "metadata": {},
     "output_type": "execute_result"
    },
    {
     "data": {
      "image/png": "[encoded data removed]",
      "text/plain": [
       "<Figure size 432x288 with 1 Axes>"
      ]
     },
     "metadata": {
      "needs_background": "light"
     },
     "output_type": "display_data"
    }
   ],
   "source": [
    "yearstats = g.groupby([\"Gender\", \"Year\"]).mean()[\"Finish\"]\n",
    "   \n",
    "yplot = yearstats.unstack(level=0).plot()\n",
    "\n",
    "    \n",
    "ylabels = [item for item in yplot.get_yticks()]\n",
    "ylabels = [time_to_string(item) for item in yplot.get_yticks()]\n",
    "yplot.set_yticklabels(ylabels)\n",
    "    \n",
    "yearstats"
   ]
  },
  {
   "cell_type": "code",
   "execution_count": 85,
   "metadata": {},
   "outputs": [],
   "source": [
    "g['Slowdown'] = -100* (g[\"5K\"] - g[\"40K\"]) / g[\"5K\"]"
   ]
  },
  {
   "cell_type": "code",
   "execution_count": 86,
   "metadata": {},
   "outputs": [
    {
     "data": {
      "text/html": [
       "<div>\n",
       "<style scoped>\n",
       "    .dataframe tbody tr th:only-of-type {\n",
       "        vertical-align: middle;\n",
       "    }\n",
       "\n",
       "    .dataframe tbody tr th {\n",
       "        vertical-align: top;\n",
       "    }\n",
       "\n",
       "    .dataframe thead th {\n",
       "        text-align: right;\n",
       "    }\n",
       "</style>\n",
       "<table border=\"1\" class=\"dataframe\">\n",
       "  <thead>\n",
       "    <tr style=\"text-align: right;\">\n",
       "      <th></th>\n",
       "      <th>Year</th>\n",
       "      <th>Place</th>\n",
       "      <th>Finish</th>\n",
       "      <th>5K</th>\n",
       "      <th>10K</th>\n",
       "      <th>15K</th>\n",
       "      <th>20K</th>\n",
       "      <th>21.1K</th>\n",
       "      <th>25K</th>\n",
       "      <th>30K</th>\n",
       "      <th>35K</th>\n",
       "      <th>40K</th>\n",
       "      <th>42.195K</th>\n",
       "      <th>Slowdown</th>\n",
       "    </tr>\n",
       "    <tr>\n",
       "      <th>Speed Groups</th>\n",
       "      <th></th>\n",
       "      <th></th>\n",
       "      <th></th>\n",
       "      <th></th>\n",
       "      <th></th>\n",
       "      <th></th>\n",
       "      <th></th>\n",
       "      <th></th>\n",
       "      <th></th>\n",
       "      <th></th>\n",
       "      <th></th>\n",
       "      <th></th>\n",
       "      <th></th>\n",
       "      <th></th>\n",
       "    </tr>\n",
       "  </thead>\n",
       "  <tbody>\n",
       "    <tr>\n",
       "      <th>sub3hours</th>\n",
       "      <td>2015.939380</td>\n",
       "      <td>811.155830</td>\n",
       "      <td>2.833082</td>\n",
       "      <td>0.065155</td>\n",
       "      <td>0.065415</td>\n",
       "      <td>0.066118</td>\n",
       "      <td>0.066324</td>\n",
       "      <td>0.065347</td>\n",
       "      <td>0.066554</td>\n",
       "      <td>0.067498</td>\n",
       "      <td>0.069140</td>\n",
       "      <td>0.070802</td>\n",
       "      <td>0.070677</td>\n",
       "      <td>8.955987</td>\n",
       "    </tr>\n",
       "    <tr>\n",
       "      <th>sub4hours</th>\n",
       "      <td>2015.919977</td>\n",
       "      <td>4685.232583</td>\n",
       "      <td>3.596460</td>\n",
       "      <td>0.080861</td>\n",
       "      <td>0.081215</td>\n",
       "      <td>0.082185</td>\n",
       "      <td>0.082721</td>\n",
       "      <td>0.081648</td>\n",
       "      <td>0.084169</td>\n",
       "      <td>0.086171</td>\n",
       "      <td>0.090448</td>\n",
       "      <td>0.093149</td>\n",
       "      <td>0.091284</td>\n",
       "      <td>15.827191</td>\n",
       "    </tr>\n",
       "    <tr>\n",
       "      <th>sub5hours</th>\n",
       "      <td>2015.980054</td>\n",
       "      <td>10742.001797</td>\n",
       "      <td>4.500271</td>\n",
       "      <td>0.096536</td>\n",
       "      <td>0.097982</td>\n",
       "      <td>0.100169</td>\n",
       "      <td>0.102144</td>\n",
       "      <td>0.101218</td>\n",
       "      <td>0.107064</td>\n",
       "      <td>0.110543</td>\n",
       "      <td>0.118541</td>\n",
       "      <td>0.119605</td>\n",
       "      <td>0.113765</td>\n",
       "      <td>24.772029</td>\n",
       "    </tr>\n",
       "    <tr>\n",
       "      <th>over5hours</th>\n",
       "      <td>2016.326532</td>\n",
       "      <td>15588.186205</td>\n",
       "      <td>5.768050</td>\n",
       "      <td>0.114526</td>\n",
       "      <td>0.119597</td>\n",
       "      <td>0.125494</td>\n",
       "      <td>0.132865</td>\n",
       "      <td>0.130553</td>\n",
       "      <td>0.145928</td>\n",
       "      <td>0.147285</td>\n",
       "      <td>0.154557</td>\n",
       "      <td>0.151710</td>\n",
       "      <td>0.142734</td>\n",
       "      <td>34.397128</td>\n",
       "    </tr>\n",
       "  </tbody>\n",
       "</table>\n",
       "</div>"
      ],
      "text/plain": [
       "                     Year         Place    Finish        5K       10K  \\\n",
       "Speed Groups                                                            \n",
       "sub3hours     2015.939380    811.155830  2.833082  0.065155  0.065415   \n",
       "sub4hours     2015.919977   4685.232583  3.596460  0.080861  0.081215   \n",
       "sub5hours     2015.980054  10742.001797  4.500271  0.096536  0.097982   \n",
       "over5hours    2016.326532  15588.186205  5.768050  0.114526  0.119597   \n",
       "\n",
       "                   15K       20K     21.1K       25K       30K       35K  \\\n",
       "Speed Groups                                                               \n",
       "sub3hours     0.066118  0.066324  0.065347  0.066554  0.067498  0.069140   \n",
       "sub4hours     0.082185  0.082721  0.081648  0.084169  0.086171  0.090448   \n",
       "sub5hours     0.100169  0.102144  0.101218  0.107064  0.110543  0.118541   \n",
       "over5hours    0.125494  0.132865  0.130553  0.145928  0.147285  0.154557   \n",
       "\n",
       "                   40K   42.195K   Slowdown  \n",
       "Speed Groups                                 \n",
       "sub3hours     0.070802  0.070677   8.955987  \n",
       "sub4hours     0.093149  0.091284  15.827191  \n",
       "sub5hours     0.119605  0.113765  24.772029  \n",
       "over5hours    0.151710  0.142734  34.397128  "
      ]
     },
     "execution_count": 86,
     "metadata": {},
     "output_type": "execute_result"
    },
    {
     "data": {
      "image/png": "[encoded data removed]",
      "text/plain": [
       "<Figure size 432x288 with 1 Axes>"
      ]
     },
     "metadata": {
      "needs_background": "light"
     },
     "output_type": "display_data"
    },
    {
     "data": {
      "image/png": "[encoded data removed]",
      "text/plain": [
       "<Figure size 432x288 with 1 Axes>"
      ]
     },
     "metadata": {
      "needs_background": "light"
     },
     "output_type": "display_data"
    },
    {
     "data": {
      "image/png": "[encoded data removed]",
      "text/plain": [
       "<Figure size 432x288 with 1 Axes>"
      ]
     },
     "metadata": {
      "needs_background": "light"
     },
     "output_type": "display_data"
    },
    {
     "data": {
      "image/png": "[encoded data removed]",
      "text/plain": [
       "<Figure size 432x288 with 1 Axes>"
      ]
     },
     "metadata": {
      "needs_background": "light"
     },
     "output_type": "display_data"
    }
   ],
   "source": [
    "g['Speed Groups'] = pd.cut(g.Finish, [2,3,4,5,12], right=False, labels = ['sub3hours', 'sub4hours', 'sub5hours', 'over5hours'])\n",
    "\n",
    "def plot_splits(yaxis, temp_df):\n",
    "    g_group = temp_df.groupby(yaxis).mean()\n",
    "    col = ['5K', '10K', '15K', '20K', '25K', '30K', '35K', '40K', '42.195K']\n",
    "    ax = g_group[col].transpose().plot(use_index = True)\n",
    "\n",
    "    xlabels = [item.get_text() for item in ax.get_xticklabels()]\n",
    "    xlabels = [\"0\"] + [i for i in col] + [\"1\"]\n",
    "    ax.set_xticklabels(xlabels)\n",
    "\n",
    "    ylabels = [item for item in ax.get_yticks()]\n",
    "    ylabels = [time_to_string(item) for item in ax.get_yticks()]\n",
    "    ax.set_yticklabels(ylabels)\n",
    "\n",
    "    return g_group\n",
    "\n",
    "plot_splits(\"Year\", g)\n",
    "plot_splits(\"Gender\", g)\n",
    "plot_splits(\"Category\", g)\n",
    "plot_splits(\"Speed Groups\", g)"
   ]
  },
  {
   "cell_type": "code",
   "execution_count": 28,
   "metadata": {},
   "outputs": [
    {
     "ename": "TypeError",
     "evalue": "Empty 'DataFrame': no numeric data to plot",
     "output_type": "error",
     "traceback": [
      "\u001b[0;31m---------------------------------------------------------------------------\u001b[0m",
      "\u001b[0;31mTypeError\u001b[0m                                 Traceback (most recent call last)",
      "\u001b[0;32m<ipython-input-28-32359ecc31bb>\u001b[0m in \u001b[0;36m<module>\u001b[0;34m\u001b[0m\n\u001b[1;32m      1\u001b[0m \u001b[0msub3\u001b[0m \u001b[0;34m=\u001b[0m \u001b[0mg\u001b[0m\u001b[0;34m[\u001b[0m\u001b[0mg\u001b[0m\u001b[0;34m[\u001b[0m\u001b[0;34m\"Speed Groups\"\u001b[0m\u001b[0;34m]\u001b[0m \u001b[0;34m==\u001b[0m \u001b[0;34m\"sub 3 hours\"\u001b[0m\u001b[0;34m]\u001b[0m\u001b[0;34m.\u001b[0m\u001b[0mcopy\u001b[0m\u001b[0;34m(\u001b[0m\u001b[0;34m)\u001b[0m\u001b[0;34m\u001b[0m\u001b[0m\n\u001b[0;32m----> 2\u001b[0;31m \u001b[0msub3df\u001b[0m \u001b[0;34m=\u001b[0m \u001b[0mplot_splits\u001b[0m\u001b[0;34m(\u001b[0m\u001b[0;34m\"Year\"\u001b[0m\u001b[0;34m,\u001b[0m \u001b[0msub3\u001b[0m\u001b[0;34m)\u001b[0m\u001b[0;34m\u001b[0m\u001b[0m\n\u001b[0m\u001b[1;32m      3\u001b[0m \u001b[0;34m\u001b[0m\u001b[0m\n\u001b[1;32m      4\u001b[0m \u001b[0;32mfor\u001b[0m \u001b[0mcolumn\u001b[0m \u001b[0;32min\u001b[0m \u001b[0;34m[\u001b[0m\u001b[0;34m\"5K\"\u001b[0m\u001b[0;34m,\u001b[0m \u001b[0;34m\"40K\"\u001b[0m\u001b[0;34m,\u001b[0m \u001b[0;34m\"42.195K\"\u001b[0m\u001b[0;34m]\u001b[0m\u001b[0;34m:\u001b[0m\u001b[0;34m\u001b[0m\u001b[0m\n\u001b[1;32m      5\u001b[0m     \u001b[0msub3df\u001b[0m\u001b[0;34m[\u001b[0m\u001b[0mcolumn\u001b[0m\u001b[0;34m]\u001b[0m \u001b[0;34m=\u001b[0m \u001b[0msub3df\u001b[0m\u001b[0;34m[\u001b[0m\u001b[0mcolumn\u001b[0m\u001b[0;34m]\u001b[0m\u001b[0;34m.\u001b[0m\u001b[0mapply\u001b[0m\u001b[0;34m(\u001b[0m\u001b[0mtime_to_string\u001b[0m\u001b[0;34m)\u001b[0m\u001b[0;34m\u001b[0m\u001b[0m\n",
      "\u001b[0;32m<ipython-input-27-ed3eed696d89>\u001b[0m in \u001b[0;36mplot_splits\u001b[0;34m(yaxis, temp_df)\u001b[0m\n\u001b[1;32m      4\u001b[0m     \u001b[0mg_group\u001b[0m \u001b[0;34m=\u001b[0m \u001b[0mtemp_df\u001b[0m\u001b[0;34m.\u001b[0m\u001b[0mgroupby\u001b[0m\u001b[0;34m(\u001b[0m\u001b[0myaxis\u001b[0m\u001b[0;34m)\u001b[0m\u001b[0;34m.\u001b[0m\u001b[0mmean\u001b[0m\u001b[0;34m(\u001b[0m\u001b[0;34m)\u001b[0m\u001b[0;34m\u001b[0m\u001b[0m\n\u001b[1;32m      5\u001b[0m     \u001b[0mcol\u001b[0m \u001b[0;34m=\u001b[0m \u001b[0;34m[\u001b[0m\u001b[0;34m'5K'\u001b[0m\u001b[0;34m,\u001b[0m \u001b[0;34m'10K'\u001b[0m\u001b[0;34m,\u001b[0m \u001b[0;34m'15K'\u001b[0m\u001b[0;34m,\u001b[0m \u001b[0;34m'20K'\u001b[0m\u001b[0;34m,\u001b[0m \u001b[0;34m'25K'\u001b[0m\u001b[0;34m,\u001b[0m \u001b[0;34m'30K'\u001b[0m\u001b[0;34m,\u001b[0m \u001b[0;34m'35K'\u001b[0m\u001b[0;34m,\u001b[0m \u001b[0;34m'40K'\u001b[0m\u001b[0;34m,\u001b[0m \u001b[0;34m'42.195K'\u001b[0m\u001b[0;34m]\u001b[0m\u001b[0;34m\u001b[0m\u001b[0m\n\u001b[0;32m----> 6\u001b[0;31m     \u001b[0max\u001b[0m \u001b[0;34m=\u001b[0m \u001b[0mg_group\u001b[0m\u001b[0;34m[\u001b[0m\u001b[0mcol\u001b[0m\u001b[0;34m]\u001b[0m\u001b[0;34m.\u001b[0m\u001b[0mtranspose\u001b[0m\u001b[0;34m(\u001b[0m\u001b[0;34m)\u001b[0m\u001b[0;34m.\u001b[0m\u001b[0mplot\u001b[0m\u001b[0;34m(\u001b[0m\u001b[0muse_index\u001b[0m \u001b[0;34m=\u001b[0m \u001b[0;32mTrue\u001b[0m\u001b[0;34m)\u001b[0m\u001b[0;34m\u001b[0m\u001b[0m\n\u001b[0m\u001b[1;32m      7\u001b[0m \u001b[0;34m\u001b[0m\u001b[0m\n\u001b[1;32m      8\u001b[0m     \u001b[0mxlabels\u001b[0m \u001b[0;34m=\u001b[0m \u001b[0;34m[\u001b[0m\u001b[0mitem\u001b[0m\u001b[0;34m.\u001b[0m\u001b[0mget_text\u001b[0m\u001b[0;34m(\u001b[0m\u001b[0;34m)\u001b[0m \u001b[0;32mfor\u001b[0m \u001b[0mitem\u001b[0m \u001b[0;32min\u001b[0m \u001b[0max\u001b[0m\u001b[0;34m.\u001b[0m\u001b[0mget_xticklabels\u001b[0m\u001b[0;34m(\u001b[0m\u001b[0;34m)\u001b[0m\u001b[0;34m]\u001b[0m\u001b[0;34m\u001b[0m\u001b[0m\n",
      "\u001b[0;32m/Library/Frameworks/Python.framework/Versions/3.7/lib/python3.7/site-packages/pandas/plotting/_core.py\u001b[0m in \u001b[0;36m__call__\u001b[0;34m(self, x, y, kind, ax, subplots, sharex, sharey, layout, figsize, use_index, title, grid, legend, style, logx, logy, loglog, xticks, yticks, xlim, ylim, rot, fontsize, colormap, table, yerr, xerr, secondary_y, sort_columns, **kwds)\u001b[0m\n\u001b[1;32m   2939\u001b[0m                           \u001b[0mfontsize\u001b[0m\u001b[0;34m=\u001b[0m\u001b[0mfontsize\u001b[0m\u001b[0;34m,\u001b[0m \u001b[0mcolormap\u001b[0m\u001b[0;34m=\u001b[0m\u001b[0mcolormap\u001b[0m\u001b[0;34m,\u001b[0m \u001b[0mtable\u001b[0m\u001b[0;34m=\u001b[0m\u001b[0mtable\u001b[0m\u001b[0;34m,\u001b[0m\u001b[0;34m\u001b[0m\u001b[0m\n\u001b[1;32m   2940\u001b[0m                           \u001b[0myerr\u001b[0m\u001b[0;34m=\u001b[0m\u001b[0myerr\u001b[0m\u001b[0;34m,\u001b[0m \u001b[0mxerr\u001b[0m\u001b[0;34m=\u001b[0m\u001b[0mxerr\u001b[0m\u001b[0;34m,\u001b[0m \u001b[0msecondary_y\u001b[0m\u001b[0;34m=\u001b[0m\u001b[0msecondary_y\u001b[0m\u001b[0;34m,\u001b[0m\u001b[0;34m\u001b[0m\u001b[0m\n\u001b[0;32m-> 2941\u001b[0;31m                           sort_columns=sort_columns, **kwds)\n\u001b[0m\u001b[1;32m   2942\u001b[0m     \u001b[0m__call__\u001b[0m\u001b[0;34m.\u001b[0m\u001b[0m__doc__\u001b[0m \u001b[0;34m=\u001b[0m \u001b[0mplot_frame\u001b[0m\u001b[0;34m.\u001b[0m\u001b[0m__doc__\u001b[0m\u001b[0;34m\u001b[0m\u001b[0m\n\u001b[1;32m   2943\u001b[0m \u001b[0;34m\u001b[0m\u001b[0m\n",
      "\u001b[0;32m/Library/Frameworks/Python.framework/Versions/3.7/lib/python3.7/site-packages/pandas/plotting/_core.py\u001b[0m in \u001b[0;36mplot_frame\u001b[0;34m(data, x, y, kind, ax, subplots, sharex, sharey, layout, figsize, use_index, title, grid, legend, style, logx, logy, loglog, xticks, yticks, xlim, ylim, rot, fontsize, colormap, table, yerr, xerr, secondary_y, sort_columns, **kwds)\u001b[0m\n\u001b[1;32m   1975\u001b[0m                  \u001b[0myerr\u001b[0m\u001b[0;34m=\u001b[0m\u001b[0myerr\u001b[0m\u001b[0;34m,\u001b[0m \u001b[0mxerr\u001b[0m\u001b[0;34m=\u001b[0m\u001b[0mxerr\u001b[0m\u001b[0;34m,\u001b[0m\u001b[0;34m\u001b[0m\u001b[0m\n\u001b[1;32m   1976\u001b[0m                  \u001b[0msecondary_y\u001b[0m\u001b[0;34m=\u001b[0m\u001b[0msecondary_y\u001b[0m\u001b[0;34m,\u001b[0m \u001b[0msort_columns\u001b[0m\u001b[0;34m=\u001b[0m\u001b[0msort_columns\u001b[0m\u001b[0;34m,\u001b[0m\u001b[0;34m\u001b[0m\u001b[0m\n\u001b[0;32m-> 1977\u001b[0;31m                  **kwds)\n\u001b[0m\u001b[1;32m   1978\u001b[0m \u001b[0;34m\u001b[0m\u001b[0m\n\u001b[1;32m   1979\u001b[0m \u001b[0;34m\u001b[0m\u001b[0m\n",
      "\u001b[0;32m/Library/Frameworks/Python.framework/Versions/3.7/lib/python3.7/site-packages/pandas/plotting/_core.py\u001b[0m in \u001b[0;36m_plot\u001b[0;34m(data, x, y, subplots, ax, kind, **kwds)\u001b[0m\n\u001b[1;32m   1802\u001b[0m         \u001b[0mplot_obj\u001b[0m \u001b[0;34m=\u001b[0m \u001b[0mklass\u001b[0m\u001b[0;34m(\u001b[0m\u001b[0mdata\u001b[0m\u001b[0;34m,\u001b[0m \u001b[0msubplots\u001b[0m\u001b[0;34m=\u001b[0m\u001b[0msubplots\u001b[0m\u001b[0;34m,\u001b[0m \u001b[0max\u001b[0m\u001b[0;34m=\u001b[0m\u001b[0max\u001b[0m\u001b[0;34m,\u001b[0m \u001b[0mkind\u001b[0m\u001b[0;34m=\u001b[0m\u001b[0mkind\u001b[0m\u001b[0;34m,\u001b[0m \u001b[0;34m**\u001b[0m\u001b[0mkwds\u001b[0m\u001b[0;34m)\u001b[0m\u001b[0;34m\u001b[0m\u001b[0m\n\u001b[1;32m   1803\u001b[0m \u001b[0;34m\u001b[0m\u001b[0m\n\u001b[0;32m-> 1804\u001b[0;31m     \u001b[0mplot_obj\u001b[0m\u001b[0;34m.\u001b[0m\u001b[0mgenerate\u001b[0m\u001b[0;34m(\u001b[0m\u001b[0;34m)\u001b[0m\u001b[0;34m\u001b[0m\u001b[0m\n\u001b[0m\u001b[1;32m   1805\u001b[0m     \u001b[0mplot_obj\u001b[0m\u001b[0;34m.\u001b[0m\u001b[0mdraw\u001b[0m\u001b[0;34m(\u001b[0m\u001b[0;34m)\u001b[0m\u001b[0;34m\u001b[0m\u001b[0m\n\u001b[1;32m   1806\u001b[0m     \u001b[0;32mreturn\u001b[0m \u001b[0mplot_obj\u001b[0m\u001b[0;34m.\u001b[0m\u001b[0mresult\u001b[0m\u001b[0;34m\u001b[0m\u001b[0m\n",
      "\u001b[0;32m/Library/Frameworks/Python.framework/Versions/3.7/lib/python3.7/site-packages/pandas/plotting/_core.py\u001b[0m in \u001b[0;36mgenerate\u001b[0;34m(self)\u001b[0m\n\u001b[1;32m    256\u001b[0m     \u001b[0;32mdef\u001b[0m \u001b[0mgenerate\u001b[0m\u001b[0;34m(\u001b[0m\u001b[0mself\u001b[0m\u001b[0;34m)\u001b[0m\u001b[0;34m:\u001b[0m\u001b[0;34m\u001b[0m\u001b[0m\n\u001b[1;32m    257\u001b[0m         \u001b[0mself\u001b[0m\u001b[0;34m.\u001b[0m\u001b[0m_args_adjust\u001b[0m\u001b[0;34m(\u001b[0m\u001b[0;34m)\u001b[0m\u001b[0;34m\u001b[0m\u001b[0m\n\u001b[0;32m--> 258\u001b[0;31m         \u001b[0mself\u001b[0m\u001b[0;34m.\u001b[0m\u001b[0m_compute_plot_data\u001b[0m\u001b[0;34m(\u001b[0m\u001b[0;34m)\u001b[0m\u001b[0;34m\u001b[0m\u001b[0m\n\u001b[0m\u001b[1;32m    259\u001b[0m         \u001b[0mself\u001b[0m\u001b[0;34m.\u001b[0m\u001b[0m_setup_subplots\u001b[0m\u001b[0;34m(\u001b[0m\u001b[0;34m)\u001b[0m\u001b[0;34m\u001b[0m\u001b[0m\n\u001b[1;32m    260\u001b[0m         \u001b[0mself\u001b[0m\u001b[0;34m.\u001b[0m\u001b[0m_make_plot\u001b[0m\u001b[0;34m(\u001b[0m\u001b[0;34m)\u001b[0m\u001b[0;34m\u001b[0m\u001b[0m\n",
      "\u001b[0;32m/Library/Frameworks/Python.framework/Versions/3.7/lib/python3.7/site-packages/pandas/plotting/_core.py\u001b[0m in \u001b[0;36m_compute_plot_data\u001b[0;34m(self)\u001b[0m\n\u001b[1;32m    371\u001b[0m         \u001b[0;32mif\u001b[0m \u001b[0mis_empty\u001b[0m\u001b[0;34m:\u001b[0m\u001b[0;34m\u001b[0m\u001b[0m\n\u001b[1;32m    372\u001b[0m             raise TypeError('Empty {0!r}: no numeric data to '\n\u001b[0;32m--> 373\u001b[0;31m                             'plot'.format(numeric_data.__class__.__name__))\n\u001b[0m\u001b[1;32m    374\u001b[0m \u001b[0;34m\u001b[0m\u001b[0m\n\u001b[1;32m    375\u001b[0m         \u001b[0mself\u001b[0m\u001b[0;34m.\u001b[0m\u001b[0mdata\u001b[0m \u001b[0;34m=\u001b[0m \u001b[0mnumeric_data\u001b[0m\u001b[0;34m\u001b[0m\u001b[0m\n",
      "\u001b[0;31mTypeError\u001b[0m: Empty 'DataFrame': no numeric data to plot"
     ]
    }
   ],
   "source": [
    "sub3 = g[g[\"Speed Groups\"] == \"sub 3 hours\"].copy()\n",
    "sub3df = plot_splits(\"Year\", sub3)\n",
    "\n",
    "for column in [\"5K\", \"40K\", \"42.195K\"]:\n",
    "    sub3df[column] = sub3df[column].apply(time_to_string)\n",
    "    \n",
    "sub3df[[\"5K\", \"40K\", \"42.195K\"]]"
   ]
  },
  {
   "cell_type": "code",
   "execution_count": 29,
   "metadata": {},
   "outputs": [
    {
     "data": {
      "text/plain": [
       "<matplotlib.axes._subplots.AxesSubplot at 0x12e2fd7b8>"
      ]
     },
     "execution_count": 29,
     "metadata": {},
     "output_type": "execute_result"
    },
    {
     "data": {
      "image/png": "[encoded data removed]",
      "text/plain": [
       "<Figure size 432x288 with 1 Axes>"
      ]
     },
     "metadata": {
      "needs_background": "light"
     },
     "output_type": "display_data"
    }
   ],
   "source": [
    "groups = g[[\"Slowdown\", \"Speed Groups\", \"Year\"]].groupby([\"Speed Groups\", \"Year\"]).mean()\n",
    "groups.plot(kind = \"bar\")"
   ]
  },
  {
   "cell_type": "code",
   "execution_count": 30,
   "metadata": {},
   "outputs": [
    {
     "data": {
      "text/plain": [
       "[Text(0, 0, '0%'),\n",
       " Text(0, 0, '5%'),\n",
       " Text(0, 0, '10%'),\n",
       " Text(0, 0, '15%'),\n",
       " Text(0, 0, '20%'),\n",
       " Text(0, 0, '25%'),\n",
       " Text(0, 0, '30%'),\n",
       " Text(0, 0, '35%'),\n",
       " Text(0, 0, '40%')]"
      ]
     },
     "execution_count": 30,
     "metadata": {},
     "output_type": "execute_result"
    },
    {
     "data": {
      "image/png": "[encoded data removed]",
      "text/plain": [
       "<Figure size 432x288 with 1 Axes>"
      ]
     },
     "metadata": {
      "needs_background": "light"
     },
     "output_type": "display_data"
    }
   ],
   "source": [
    "bar = groups.unstack().plot(kind='bar', rot=0)\n",
    "bar.legend([\"2014\", \"2015\", \"2016\", \"2017\", \"2018\"])\n",
    "\n",
    "ylabels = [item for item in bar.get_yticks()]\n",
    "ylabels = [str(int(item)) + \"%\" for item in bar.get_yticks()]\n",
    "bar.set_yticklabels(ylabels)"
   ]
  },
  {
   "cell_type": "code",
   "execution_count": 31,
   "metadata": {},
   "outputs": [
    {
     "name": "stdout",
     "output_type": "stream",
     "text": [
      "[2014, 2015, 2016, 2017, 2018]\n",
      "['F', 'M']\n",
      "['IRL', 'GBR', 'SLE', 'NZL', 'ESP', 'USA', 'ARG', 'BEL', 'NOR', 'ITA', 'DEN', 'CAN', 'RSA', 'FIN', 'FRA', 'GRE', 'POL', 'LTU', 'AUS', 'POR', 'SUI', 'SLO', 'UKR', 'PAR', 'SWE', 'ISL', 'IMN', 'NED', 'GER', 'MEX', 'CHI', 'LUX', 'ZIM', 'AUT', 'KEN', 'MLT', 'JPN', 'EST', 'SVK', 'BDI', 'HKG', 'LAT', 'IVB', 'THA', 'TAN', 'RUS', 'CZE', 'DOM', 'HUN', 'JEY', 'GIB', 'UAE', 'GUA', 'KAZ', 'BRA', 'SIN', 'CAY', 'IND', 'BOT', 'ROU', 'ISR', 'BER', 'PAN', 'TRI', 'MAS', 'CRO', 'PUR', 'KOR', ')', 'COL', 'PER', 'BAH', 'VEN', 'MAR', 'LBR', 'PHI', 'ANG', 'KUW', 'CHN', 'GHA', 'AND', 'BUL', 'URU', 'GGY', 'KSA', 'AFG', 'CYP', 'STP', 'MDA', 'SRB', 'AZE', 'NEP', 'BRN', 'MON', 'ECU', 'SEY', 'TUV', 'ALB', 'QAT', 'EGY', 'GRN', 'TUR', 'NGR', 'BAN', 'GUI', 'UGA', 'FRO', 'PAK', 'INA', 'UMI', 'IOT', 'SHN', 'BAR', 'MTQ', 'ASA', 'GLP', 'FIJ', 'REU', 'IRI', 'CRC', 'PYF', 'WLF', 'HON', 'NIR', 'SCO', 'ENG', 'WLS', 'PLE', 'MAD', 'TPE', 'MAC', 'BRU', 'TKM', 'UZB', 'DMA', 'BIZ', 'TLS', 'SMR', 'MKD', 'ALA', 'ZAM', 'LIE', 'ARM', 'KOS', 'LIB', 'CIV', 'FLK', 'SRI', 'JOR', 'NFK', 'ETH', 'CGO', 'SUD', 'GEQ', 'MGL', 'CPV', 'NIG', 'SWZ', 'CMR', 'HAI', 'MYA', 'JAM', 'MRI', 'BUR', 'MDV', 'MAW', 'SYR', 'NAM', 'SEN', 'GEO']\n",
      "['sub3hours', 'sub4hours', 'sub5hours', 'over5hours']\n"
     ]
    }
   ],
   "source": [
    "for item in ['Year', 'Gender', 'Nation', 'Speed Groups']:\n",
    "    print(g[item].unique().tolist())"
   ]
  },
  {
   "cell_type": "code",
   "execution_count": 32,
   "metadata": {},
   "outputs": [],
   "source": [
    "import arff\n",
    "col = ['Year', 'Gender', 'Nation', 'Place', 'Finish', '5K',\n",
    "       '10K', '15K', '20K', '21.1K', '25K', '30K', '35K', '40K', '42.195K',\n",
    "       'Slowdown', 'Speed Groups']\n",
    "arff.dump('london_splits.arff'\n",
    "      , g[col].values\n",
    "      , relation='splits'\n",
    "      , names=g[col].columns)"
   ]
  },
  {
   "cell_type": "code",
   "execution_count": 33,
   "metadata": {},
   "outputs": [
    {
     "data": {
      "text/plain": [
       "<matplotlib.axes._subplots.AxesSubplot at 0x14363ca58>"
      ]
     },
     "execution_count": 33,
     "metadata": {},
     "output_type": "execute_result"
    },
    {
     "data": {
      "image/png": "[encoded data removed]",
      "text/plain": [
       "<Figure size 432x288 with 1 Axes>"
      ]
     },
     "metadata": {
      "needs_background": "light"
     },
     "output_type": "display_data"
    }
   ],
   "source": [
    "col = ['5K', '10K', '15K', '20K', '25K', '30K', '35K', '40K', '42.195K']\n",
    "\n",
    "pace = g.describe().loc[\"mean\"][col].copy()\n",
    "pace = pace.to_frame(name = \"paces\")\n",
    "ax = pace.plot()\n",
    "\n",
    "xlabels = [item.get_text() for item in ax.get_xticklabels()]\n",
    "xlabels = [\"0\"] + [i for i in col] + [\"1\"]\n",
    "ax.set_xticklabels(xlabels)\n",
    "\n",
    "ylabels = [item for item in ax.get_yticks()]\n",
    "ylabels = [time_to_string(item) for item in ax.get_yticks()]\n",
    "ax.set_yticklabels(ylabels)\n",
    "ax"
   ]
  },
  {
   "cell_type": "markdown",
   "metadata": {},
   "source": [
    "# Regression"
   ]
  },
  {
   "cell_type": "code",
   "execution_count": 34,
   "metadata": {},
   "outputs": [
    {
     "name": "stdout",
     "output_type": "stream",
     "text": [
      "0.10803498147284328 24.688333333333333\n",
      "            distances     paces\n",
      "distances  174.349225  0.109251\n",
      "paces        0.109251  0.000075\n",
      "pace = 0.00062 distance + 0.09256\n",
      "a 0.0006266218649193402\n",
      "b 0.09256473199775964\n",
      "CC: 0.9537624680872323\n",
      "['', '', '', '', '', '', '']\n",
      "['0', '0K', '10K', '20K', '30K', '40K', '1']\n"
     ]
    },
    {
     "data": {
      "text/plain": [
       "[Text(0, 0, '0'),\n",
       " Text(0, 0, '0K'),\n",
       " Text(0, 0, '10K'),\n",
       " Text(0, 0, '20K'),\n",
       " Text(0, 0, '30K'),\n",
       " Text(0, 0, '40K'),\n",
       " Text(0, 0, '1')]"
      ]
     },
     "execution_count": 34,
     "metadata": {},
     "output_type": "execute_result"
    },
    {
     "data": {
      "image/png": "[encoded data removed]",
      "text/plain": [
       "<Figure size 432x288 with 1 Axes>"
      ]
     },
     "metadata": {
      "needs_background": "light"
     },
     "output_type": "display_data"
    }
   ],
   "source": [
    "#meanpace = pace.mean()\n",
    "\n",
    "distances = [float(item[:-1]) for item in pace.index]\n",
    "\n",
    "pace[\"distances\"] = distances\n",
    "meandistance = pace[\"distances\"].mean()\n",
    "meanpace = pace[\"paces\"].mean()\n",
    "covmatrix = pace[[\"distances\", \"paces\"]].cov()\n",
    "print(meanpace, meandistance)\n",
    "print(covmatrix)\n",
    "\n",
    "#a = Cov(X,Y)/Var(X), and b = E[Y] – aE[X]\n",
    "a = covmatrix[\"distances\"][\"paces\"] / covmatrix[\"distances\"][\"distances\"]\n",
    "b = meanpace - a * meandistance\n",
    "linename = \"pace = \" + str(a)[:7] + \" distance\" + \" + \" + str(b)[0:7]\n",
    "\n",
    "print(linename)\n",
    "print(\"a\", a)\n",
    "print(\"b\", b)\n",
    "\n",
    "CC = covmatrix[\"distances\"][\"paces\"] ** 2\n",
    "CC = CC / (covmatrix[\"paces\"][\"paces\"] * covmatrix[\"distances\"][\"distances\"] )\n",
    "print(\"CC:\",np.sqrt(CC))\n",
    "\n",
    "ax = pace.plot(x='distances', y='paces', style='o')\n",
    "x = np.linspace(0,42,10)\n",
    "plt.plot(x, a*x + b, label=linename)\n",
    "plt.legend()\n",
    "\n",
    "ylabels = [item for item in ax.get_yticks()]\n",
    "ylabels = [time_to_string(item) for item in ax.get_yticks()]\n",
    "ax.set_yticklabels(ylabels)\n",
    "\n",
    "xlabels = [item.get_text() for item in ax.get_xticklabels()]\n",
    "print(xlabels)\n",
    "xlabels = [\"0\"] + [i for i in ['0K','10K', '20K', '30K', '40K']] + [\"1\"]\n",
    "print(xlabels)\n",
    "ax.set_xticklabels(xlabels)"
   ]
  },
  {
   "cell_type": "code",
   "execution_count": 35,
   "metadata": {},
   "outputs": [
    {
     "data": {
      "image/png": "[encoded data removed]",
      "text/plain": [
       "<Figure size 432x288 with 1 Axes>"
      ]
     },
     "metadata": {
      "needs_background": "light"
     },
     "output_type": "display_data"
    }
   ],
   "source": [
    "paces2 = g[col + [\"Year\"]].groupby(\"Year\").mean()\n",
    "\n",
    "distances = [float(item[:-1]) for item in paces2.columns]\n",
    "j = paces2.head().copy()\n",
    "j.columns = distances\n",
    "\n",
    "fig, ax = plt.subplots()\n",
    "for row in j.iterrows():\n",
    "    ax.scatter(distances, row[1], c = 'DarkBlue')\n",
    "    \n",
    "ylabels = [item for item in ax.get_yticks()]\n",
    "ylabels = [time_to_string(item) for item in ax.get_yticks()]\n",
    "ax.set_yticklabels(ylabels)\n",
    "\n",
    "plt.show()\n",
    "\n"
   ]
  },
  {
   "cell_type": "code",
   "execution_count": 36,
   "metadata": {},
   "outputs": [
    {
     "data": {
      "text/plain": [
       "<matplotlib.axes._subplots.AxesSubplot at 0x134bb6fd0>"
      ]
     },
     "execution_count": 36,
     "metadata": {},
     "output_type": "execute_result"
    },
    {
     "data": {
      "image/png": "[encoded data removed]",
      "text/plain": [
       "<Figure size 432x288 with 1 Axes>"
      ]
     },
     "metadata": {
      "needs_background": "light"
     },
     "output_type": "display_data"
    }
   ],
   "source": [
    "col = ['5K', '10K', '15K', '20K', '25K', '30K', '35K', '40K']\n",
    "distances = [float(item[:-1]) for item in col]\n",
    "k = g[col]\n",
    "k.columns = distances\n",
    "melt_k = pd.melt(k, value_vars=distances)\n",
    "melt_k.columns = [\"distance\", \"pace\"]\n",
    "ax = melt_k.plot(x='distance', y='pace', style='o')\n",
    "\n",
    "melt_k.head()\n",
    "\n",
    "xlabels = [item.get_text() for item in ax.get_xticklabels()]\n",
    "xlabels = [\"0\"] + [i for i in col] + [\"1\"]\n",
    "ax.set_xticklabels(xlabels)\n",
    "\n",
    "ylabels = [item for item in ax.get_yticks()]\n",
    "ylabels = [time_to_string(item) for item in ax.get_yticks()]\n",
    "ax.set_yticklabels(ylabels)\n",
    "\n",
    "x = np.linspace(0,42,10)\n",
    "plt.plot(x, a*x + b, label=linename)\n",
    "plt.legend()\n",
    "\n",
    "ax"
   ]
  },
  {
   "cell_type": "code",
   "execution_count": 37,
   "metadata": {},
   "outputs": [
    {
     "data": {
      "text/plain": [
       "Text(0.5, 0, 'temp (C)')"
      ]
     },
     "execution_count": 37,
     "metadata": {},
     "output_type": "execute_result"
    },
    {
     "data": {
      "image/png": "[encoded data removed]",
      "text/plain": [
       "<Figure size 432x288 with 1 Axes>"
      ]
     },
     "metadata": {
      "needs_background": "light"
     },
     "output_type": "display_data"
    }
   ],
   "source": [
    "def create_ts(year, time):\n",
    "    days = {2018 : 22, 2017 : 23, 2016 : 24, 2015 : 26, 2014 : 13}\n",
    "    ts = str(year) + \"-04-\" + str(days[year]) + \"T\" + time[:4] + \"0:00\"\n",
    "    return ts\n",
    "    \n",
    "f = df[[(\"Runner\", \"Year\"),(\"Finish time.1\", \"Time Of Day\"), (\"Finish time.1\", \"Time\")]].copy()\n",
    "f.columns = [\"year\", \"time\", \"finish\"]\n",
    "f[\"ts\"] = f.apply(lambda row: create_ts(row[\"year\"], row[\"time\"]), axis=1)\n",
    "\n",
    "f[\"ts\"].unique().tolist()\n",
    "with open(\"weather.pickle\", \"rb\") as p:\n",
    "    weather = pickle.load(p)\n",
    "    \n",
    "    \n",
    "def F_to_C(F):\n",
    "    return (F - 32) * (5/9)\n",
    "    \n",
    "def find_temp(ts):\n",
    "    temp_F = weather[ts][\"temp\"]\n",
    "    return F_to_C(temp_F)\n",
    "\n",
    "f[\"temp\"] = f[\"ts\"].apply(find_temp)\n",
    "f[\"finish\"] = f[\"finish\"].apply(string_to_time)\n",
    "ax = f.plot(x='temp', y='finish', style='o')\n",
    "\n",
    "ylabels = [item for item in ax.get_yticks()]\n",
    "ylabels = [time_to_string(item) for item in ax.get_yticks()]\n",
    "ax.set_yticklabels(ylabels)\n",
    "plt.ylabel(\"Finish Time\")\n",
    "plt.xlabel(\"temp (C)\")\n",
    "\n",
    "#[f[\"year\"] == 2014]"
   ]
  },
  {
   "cell_type": "code",
   "execution_count": 38,
   "metadata": {},
   "outputs": [
    {
     "data": {
      "text/html": [
       "<div>\n",
       "<style scoped>\n",
       "    .dataframe tbody tr th:only-of-type {\n",
       "        vertical-align: middle;\n",
       "    }\n",
       "\n",
       "    .dataframe tbody tr th {\n",
       "        vertical-align: top;\n",
       "    }\n",
       "\n",
       "    .dataframe thead th {\n",
       "        text-align: right;\n",
       "    }\n",
       "</style>\n",
       "<table border=\"1\" class=\"dataframe\">\n",
       "  <thead>\n",
       "    <tr style=\"text-align: right;\">\n",
       "      <th></th>\n",
       "      <th>Name</th>\n",
       "      <th>Year</th>\n",
       "      <th>Gender</th>\n",
       "      <th>Nation</th>\n",
       "      <th>Category</th>\n",
       "      <th>Place</th>\n",
       "      <th>Finish</th>\n",
       "      <th>5K</th>\n",
       "      <th>10K</th>\n",
       "      <th>15K</th>\n",
       "      <th>...</th>\n",
       "      <th>25K</th>\n",
       "      <th>30K</th>\n",
       "      <th>35K</th>\n",
       "      <th>40K</th>\n",
       "      <th>42.195K</th>\n",
       "      <th>Time Of Day</th>\n",
       "      <th>Slowdown</th>\n",
       "      <th>Speed Groups</th>\n",
       "      <th>ts</th>\n",
       "      <th>temp</th>\n",
       "    </tr>\n",
       "  </thead>\n",
       "  <tbody>\n",
       "    <tr>\n",
       "      <th>0</th>\n",
       "      <td>NICOLA DUNCAN</td>\n",
       "      <td>2014</td>\n",
       "      <td>F</td>\n",
       "      <td>IRL</td>\n",
       "      <td>18-39</td>\n",
       "      <td>1.0</td>\n",
       "      <td>2.557778</td>\n",
       "      <td>0.059167</td>\n",
       "      <td>0.059722</td>\n",
       "      <td>0.060278</td>\n",
       "      <td>...</td>\n",
       "      <td>0.060278</td>\n",
       "      <td>0.061389</td>\n",
       "      <td>0.061944</td>\n",
       "      <td>0.062222</td>\n",
       "      <td>0.062222</td>\n",
       "      <td>12:33:35</td>\n",
       "      <td>5.164319</td>\n",
       "      <td>sub3hours</td>\n",
       "      <td>2014-04-13T12:30:00</td>\n",
       "      <td>14.105556</td>\n",
       "    </tr>\n",
       "    <tr>\n",
       "      <th>1</th>\n",
       "      <td>STEVEN WAY</td>\n",
       "      <td>2014</td>\n",
       "      <td>M</td>\n",
       "      <td>GBR</td>\n",
       "      <td>18-39</td>\n",
       "      <td>1.0</td>\n",
       "      <td>2.274167</td>\n",
       "      <td>0.053056</td>\n",
       "      <td>0.053611</td>\n",
       "      <td>0.053333</td>\n",
       "      <td>...</td>\n",
       "      <td>0.053611</td>\n",
       "      <td>0.054444</td>\n",
       "      <td>0.055000</td>\n",
       "      <td>0.055556</td>\n",
       "      <td>0.055000</td>\n",
       "      <td>12:16:27</td>\n",
       "      <td>4.712042</td>\n",
       "      <td>sub3hours</td>\n",
       "      <td>2014-04-13T12:10:00</td>\n",
       "      <td>13.811111</td>\n",
       "    </tr>\n",
       "    <tr>\n",
       "      <th>2</th>\n",
       "      <td>JULIE BRISCOE</td>\n",
       "      <td>2014</td>\n",
       "      <td>F</td>\n",
       "      <td>GBR</td>\n",
       "      <td>18-39</td>\n",
       "      <td>2.0</td>\n",
       "      <td>2.661944</td>\n",
       "      <td>0.061389</td>\n",
       "      <td>0.061389</td>\n",
       "      <td>0.061944</td>\n",
       "      <td>...</td>\n",
       "      <td>0.062500</td>\n",
       "      <td>0.063889</td>\n",
       "      <td>0.065278</td>\n",
       "      <td>0.066111</td>\n",
       "      <td>0.065000</td>\n",
       "      <td>12:39:49</td>\n",
       "      <td>7.692308</td>\n",
       "      <td>sub3hours</td>\n",
       "      <td>2014-04-13T12:30:00</td>\n",
       "      <td>14.105556</td>\n",
       "    </tr>\n",
       "    <tr>\n",
       "      <th>3</th>\n",
       "      <td>JOHN GILBERT</td>\n",
       "      <td>2014</td>\n",
       "      <td>M</td>\n",
       "      <td>GBR</td>\n",
       "      <td>18-39</td>\n",
       "      <td>2.0</td>\n",
       "      <td>2.279444</td>\n",
       "      <td>0.053056</td>\n",
       "      <td>0.053611</td>\n",
       "      <td>0.053333</td>\n",
       "      <td>...</td>\n",
       "      <td>0.053611</td>\n",
       "      <td>0.054722</td>\n",
       "      <td>0.055278</td>\n",
       "      <td>0.055833</td>\n",
       "      <td>0.055278</td>\n",
       "      <td>12:16:47</td>\n",
       "      <td>5.235602</td>\n",
       "      <td>sub3hours</td>\n",
       "      <td>2014-04-13T12:10:00</td>\n",
       "      <td>13.811111</td>\n",
       "    </tr>\n",
       "    <tr>\n",
       "      <th>4</th>\n",
       "      <td>SARA BIRD</td>\n",
       "      <td>2014</td>\n",
       "      <td>F</td>\n",
       "      <td>GBR</td>\n",
       "      <td>18-39</td>\n",
       "      <td>3.0</td>\n",
       "      <td>2.665278</td>\n",
       "      <td>0.061944</td>\n",
       "      <td>0.063056</td>\n",
       "      <td>0.062778</td>\n",
       "      <td>...</td>\n",
       "      <td>0.061944</td>\n",
       "      <td>0.063889</td>\n",
       "      <td>0.064722</td>\n",
       "      <td>0.065000</td>\n",
       "      <td>0.063611</td>\n",
       "      <td>12:40:00</td>\n",
       "      <td>4.932735</td>\n",
       "      <td>sub3hours</td>\n",
       "      <td>2014-04-13T12:40:00</td>\n",
       "      <td>14.250000</td>\n",
       "    </tr>\n",
       "  </tbody>\n",
       "</table>\n",
       "<p>5 rows × 22 columns</p>\n",
       "</div>"
      ],
      "text/plain": [
       "            Name  Year Gender Nation Category  Place    Finish        5K  \\\n",
       "0  NICOLA DUNCAN  2014      F    IRL    18-39    1.0  2.557778  0.059167   \n",
       "1     STEVEN WAY  2014      M    GBR    18-39    1.0  2.274167  0.053056   \n",
       "2  JULIE BRISCOE  2014      F    GBR    18-39    2.0  2.661944  0.061389   \n",
       "3   JOHN GILBERT  2014      M    GBR    18-39    2.0  2.279444  0.053056   \n",
       "4      SARA BIRD  2014      F    GBR    18-39    3.0  2.665278  0.061944   \n",
       "\n",
       "        10K       15K    ...           25K       30K       35K       40K  \\\n",
       "0  0.059722  0.060278    ...      0.060278  0.061389  0.061944  0.062222   \n",
       "1  0.053611  0.053333    ...      0.053611  0.054444  0.055000  0.055556   \n",
       "2  0.061389  0.061944    ...      0.062500  0.063889  0.065278  0.066111   \n",
       "3  0.053611  0.053333    ...      0.053611  0.054722  0.055278  0.055833   \n",
       "4  0.063056  0.062778    ...      0.061944  0.063889  0.064722  0.065000   \n",
       "\n",
       "    42.195K  Time Of Day  Slowdown Speed Groups                   ts  \\\n",
       "0  0.062222     12:33:35  5.164319    sub3hours  2014-04-13T12:30:00   \n",
       "1  0.055000     12:16:27  4.712042    sub3hours  2014-04-13T12:10:00   \n",
       "2  0.065000     12:39:49  7.692308    sub3hours  2014-04-13T12:30:00   \n",
       "3  0.055278     12:16:47  5.235602    sub3hours  2014-04-13T12:10:00   \n",
       "4  0.063611     12:40:00  4.932735    sub3hours  2014-04-13T12:40:00   \n",
       "\n",
       "        temp  \n",
       "0  14.105556  \n",
       "1  13.811111  \n",
       "2  14.105556  \n",
       "3  13.811111  \n",
       "4  14.250000  \n",
       "\n",
       "[5 rows x 22 columns]"
      ]
     },
     "execution_count": 38,
     "metadata": {},
     "output_type": "execute_result"
    }
   ],
   "source": [
    "g[\"ts\"] = g.apply(lambda row: create_ts(row[\"Year\"], row[\"Time Of Day\"]), axis=1)\n",
    "g[\"temp\"] = g[\"ts\"].apply(find_temp)\n",
    "g.head()"
   ]
  },
  {
   "cell_type": "code",
   "execution_count": 39,
   "metadata": {},
   "outputs": [
    {
     "name": "stdout",
     "output_type": "stream",
     "text": [
      "2014\n",
      "f = 1.4 t + -17.3\n",
      "CC: 0.8692620476378051\n",
      "score: 0.8692620476378049\n",
      "---------------------------------------------------\n",
      "2015\n",
      "f = 2.7 t + -22.7\n",
      "CC: 0.9350862255171564\n",
      "score: 0.9350862255171567\n",
      "---------------------------------------------------\n",
      "2016\n",
      "f = 2.9 t + -22.9\n",
      "CC: 0.623466682645295\n"
     ]
    },
    {
     "name": "stderr",
     "output_type": "stream",
     "text": [
      "/Library/Frameworks/Python.framework/Versions/3.7/lib/python3.7/site-packages/sklearn/linear_model/base.py:485: RuntimeWarning: internal gelsd driver lwork query error, required iwork dimension not returned. This is likely the result of LAPACK bug 0038, fixed in LAPACK 3.2.2 (released July 21, 2010). Falling back to 'gelss' driver.\n",
      "  linalg.lstsq(X, y)\n"
     ]
    },
    {
     "name": "stdout",
     "output_type": "stream",
     "text": [
      "score: 0.6234666826452955\n",
      "---------------------------------------------------\n",
      "2017\n",
      "f = 2.2 t + -28.0\n",
      "CC: 0.8000719494394322\n",
      "score: 0.800071949439432\n",
      "---------------------------------------------------\n",
      "2018\n",
      "f = -0.9 t + 26.0\n",
      "CC: 0.7781758928877556\n",
      "score: 0.7781758928877557\n",
      "---------------------------------------------------\n",
      "[[2014, 'f = 1.4 t + -17.3', 0.8692620476378051], [2015, 'f = 2.7 t + -22.7', 0.9350862255171564], [2016, 'f = 2.9 t + -22.9', 0.623466682645295], [2017, 'f = 2.2 t + -28.0', 0.8000719494394322], [2018, 'f = -0.9 t + 26.0', 0.7781758928877556]]\n"
     ]
    },
    {
     "data": {
      "image/png": "[encoded data removed]",
      "text/plain": [
       "<Figure size 432x288 with 1 Axes>"
      ]
     },
     "metadata": {
      "needs_background": "light"
     },
     "output_type": "display_data"
    },
    {
     "data": {
      "image/png": "[encoded data removed]",
      "text/plain": [
       "<Figure size 432x288 with 1 Axes>"
      ]
     },
     "metadata": {
      "needs_background": "light"
     },
     "output_type": "display_data"
    },
    {
     "data": {
      "image/png": "[encoded data removed]",
      "text/plain": [
       "<Figure size 432x288 with 1 Axes>"
      ]
     },
     "metadata": {
      "needs_background": "light"
     },
     "output_type": "display_data"
    },
    {
     "data": {
      "image/png": "[encoded data removed]",
      "text/plain": [
       "<Figure size 432x288 with 1 Axes>"
      ]
     },
     "metadata": {
      "needs_background": "light"
     },
     "output_type": "display_data"
    },
    {
     "data": {
      "image/png": "[encoded data removed]",
      "text/plain": [
       "<Figure size 432x288 with 1 Axes>"
      ]
     },
     "metadata": {
      "needs_background": "light"
     },
     "output_type": "display_data"
    }
   ],
   "source": [
    "#Finish vs Temp: Linear Regression\n",
    "\n",
    "def slow_plot(year):\n",
    "    st = g[g[\"Year\"] == year]\n",
    "    meanslow = st[\"Finish\"].mean()\n",
    "    meantemp = st[\"temp\"].mean()\n",
    "    covmatrix = st[[\"temp\", \"Finish\"]].cov()\n",
    "\n",
    "    #a = Cov(X,Y)/Var(X), and b = E[Y] – aE[X]\n",
    "    a = covmatrix[\"temp\"][\"Finish\"] / covmatrix[\"temp\"][\"temp\"]\n",
    "    b = meanslow - a * meantemp\n",
    "    linename = \"f = \" + str(round(a,1)) + \" t\" + \" + \" + str(round(b,1))\n",
    "    print(linename)\n",
    "\n",
    "    CC = covmatrix[\"Finish\"][\"temp\"] ** 2\n",
    "    CC = CC / (covmatrix[\"Finish\"][\"Finish\"] * covmatrix[\"temp\"][\"temp\"] )\n",
    "    print(\"CC:\",np.sqrt(CC))\n",
    "\n",
    "    ax = st.plot(x='temp', y='Finish', style='o')\n",
    "    x = np.linspace(st.temp.min(),st.temp.max(),10)\n",
    "    plt.plot(x, a*x + b, label=linename)\n",
    "    plt.legend()\n",
    "    \n",
    "    ylabels = [item for item in ax.get_yticks()]\n",
    "    ylabels = [time_to_string(item) for item in ax.get_yticks()]\n",
    "    ax.set_yticklabels(ylabels)\n",
    "    plt.ylabel(\"Finish Time\")\n",
    "    plt.xlabel(\"temp (C)\")\n",
    "    \n",
    "    modelfinish = LinearRegression()\n",
    "    xaxis = [\"temp\"]\n",
    "    X, y = st[xaxis], st[\"Finish\"]\n",
    "    modelfinish.fit(X, y)\n",
    "    print(\"score:\", modelfinish.score(X, y) ** 0.5)\n",
    "    \n",
    "    return [year, linename, np.sqrt(CC)]\n",
    "\n",
    "regs = []\n",
    "for year in [2014,2015,2016,2017,2018]:\n",
    "    print(year)\n",
    "    splot = slow_plot(year)\n",
    "    print(\"---------------------------------------------------\")\n",
    "    regs.append(splot)\n",
    "    \n",
    "print(regs)"
   ]
  },
  {
   "cell_type": "code",
   "execution_count": 40,
   "metadata": {},
   "outputs": [
    {
     "name": "stdout",
     "output_type": "stream",
     "text": [
      "2014\n",
      "s = 12.3 t + -166.9\n",
      "CC: 0.366029511053776\n"
     ]
    },
    {
     "ename": "ValueError",
     "evalue": "Input contains NaN, infinity or a value too large for dtype('float64').",
     "output_type": "error",
     "traceback": [
      "\u001b[0;31m---------------------------------------------------------------------------\u001b[0m",
      "\u001b[0;31mValueError\u001b[0m                                Traceback (most recent call last)",
      "\u001b[0;32m<ipython-input-40-f20223594907>\u001b[0m in \u001b[0;36m<module>\u001b[0;34m\u001b[0m\n\u001b[1;32m     42\u001b[0m \u001b[0;32mfor\u001b[0m \u001b[0myear\u001b[0m \u001b[0;32min\u001b[0m \u001b[0;34m[\u001b[0m\u001b[0;36m2014\u001b[0m\u001b[0;34m,\u001b[0m\u001b[0;36m2015\u001b[0m\u001b[0;34m,\u001b[0m\u001b[0;36m2016\u001b[0m\u001b[0;34m,\u001b[0m\u001b[0;36m2017\u001b[0m\u001b[0;34m,\u001b[0m\u001b[0;36m2018\u001b[0m\u001b[0;34m]\u001b[0m\u001b[0;34m:\u001b[0m\u001b[0;34m\u001b[0m\u001b[0m\n\u001b[1;32m     43\u001b[0m     \u001b[0mprint\u001b[0m\u001b[0;34m(\u001b[0m\u001b[0myear\u001b[0m\u001b[0;34m)\u001b[0m\u001b[0;34m\u001b[0m\u001b[0m\n\u001b[0;32m---> 44\u001b[0;31m     \u001b[0msplot\u001b[0m \u001b[0;34m=\u001b[0m \u001b[0mslow_plot\u001b[0m\u001b[0;34m(\u001b[0m\u001b[0myear\u001b[0m\u001b[0;34m)\u001b[0m\u001b[0;34m\u001b[0m\u001b[0m\n\u001b[0m\u001b[1;32m     45\u001b[0m     \u001b[0mprint\u001b[0m\u001b[0;34m(\u001b[0m\u001b[0;34m\"---------------------------------------------------\"\u001b[0m\u001b[0;34m)\u001b[0m\u001b[0;34m\u001b[0m\u001b[0m\n\u001b[1;32m     46\u001b[0m     \u001b[0mregs\u001b[0m\u001b[0;34m.\u001b[0m\u001b[0mappend\u001b[0m\u001b[0;34m(\u001b[0m\u001b[0msplot\u001b[0m\u001b[0;34m)\u001b[0m\u001b[0;34m\u001b[0m\u001b[0m\n",
      "\u001b[0;32m<ipython-input-40-f20223594907>\u001b[0m in \u001b[0;36mslow_plot\u001b[0;34m(year)\u001b[0m\n\u001b[1;32m     34\u001b[0m     \u001b[0;31m#X = X.tolist()\u001b[0m\u001b[0;34m\u001b[0m\u001b[0;34m\u001b[0m\u001b[0m\n\u001b[1;32m     35\u001b[0m     \u001b[0;31m#X = np.reshape(X, (len(X), 1))\u001b[0m\u001b[0;34m\u001b[0m\u001b[0;34m\u001b[0m\u001b[0m\n\u001b[0;32m---> 36\u001b[0;31m     \u001b[0mmodelslow\u001b[0m\u001b[0;34m.\u001b[0m\u001b[0mfit\u001b[0m\u001b[0;34m(\u001b[0m\u001b[0mX\u001b[0m\u001b[0;34m,\u001b[0m \u001b[0my\u001b[0m\u001b[0;34m)\u001b[0m\u001b[0;34m\u001b[0m\u001b[0m\n\u001b[0m\u001b[1;32m     37\u001b[0m     \u001b[0mprint\u001b[0m\u001b[0;34m(\u001b[0m\u001b[0;34m\"score:\"\u001b[0m\u001b[0;34m,\u001b[0m \u001b[0mmodelslow\u001b[0m\u001b[0;34m.\u001b[0m\u001b[0mscore\u001b[0m\u001b[0;34m(\u001b[0m\u001b[0mX\u001b[0m\u001b[0;34m,\u001b[0m \u001b[0my\u001b[0m\u001b[0;34m)\u001b[0m \u001b[0;34m**\u001b[0m \u001b[0;36m0.5\u001b[0m\u001b[0;34m)\u001b[0m\u001b[0;34m\u001b[0m\u001b[0m\n\u001b[1;32m     38\u001b[0m \u001b[0;34m\u001b[0m\u001b[0m\n",
      "\u001b[0;32m/Library/Frameworks/Python.framework/Versions/3.7/lib/python3.7/site-packages/sklearn/linear_model/base.py\u001b[0m in \u001b[0;36mfit\u001b[0;34m(self, X, y, sample_weight)\u001b[0m\n\u001b[1;32m    456\u001b[0m         \u001b[0mn_jobs_\u001b[0m \u001b[0;34m=\u001b[0m \u001b[0mself\u001b[0m\u001b[0;34m.\u001b[0m\u001b[0mn_jobs\u001b[0m\u001b[0;34m\u001b[0m\u001b[0m\n\u001b[1;32m    457\u001b[0m         X, y = check_X_y(X, y, accept_sparse=['csr', 'csc', 'coo'],\n\u001b[0;32m--> 458\u001b[0;31m                          y_numeric=True, multi_output=True)\n\u001b[0m\u001b[1;32m    459\u001b[0m \u001b[0;34m\u001b[0m\u001b[0m\n\u001b[1;32m    460\u001b[0m         \u001b[0;32mif\u001b[0m \u001b[0msample_weight\u001b[0m \u001b[0;32mis\u001b[0m \u001b[0;32mnot\u001b[0m \u001b[0;32mNone\u001b[0m \u001b[0;32mand\u001b[0m \u001b[0mnp\u001b[0m\u001b[0;34m.\u001b[0m\u001b[0matleast_1d\u001b[0m\u001b[0;34m(\u001b[0m\u001b[0msample_weight\u001b[0m\u001b[0;34m)\u001b[0m\u001b[0;34m.\u001b[0m\u001b[0mndim\u001b[0m \u001b[0;34m>\u001b[0m \u001b[0;36m1\u001b[0m\u001b[0;34m:\u001b[0m\u001b[0;34m\u001b[0m\u001b[0m\n",
      "\u001b[0;32m/Library/Frameworks/Python.framework/Versions/3.7/lib/python3.7/site-packages/sklearn/utils/validation.py\u001b[0m in \u001b[0;36mcheck_X_y\u001b[0;34m(X, y, accept_sparse, accept_large_sparse, dtype, order, copy, force_all_finite, ensure_2d, allow_nd, multi_output, ensure_min_samples, ensure_min_features, y_numeric, warn_on_dtype, estimator)\u001b[0m\n\u001b[1;32m    748\u001b[0m     \u001b[0;32mif\u001b[0m \u001b[0mmulti_output\u001b[0m\u001b[0;34m:\u001b[0m\u001b[0;34m\u001b[0m\u001b[0m\n\u001b[1;32m    749\u001b[0m         y = check_array(y, 'csr', force_all_finite=True, ensure_2d=False,\n\u001b[0;32m--> 750\u001b[0;31m                         dtype=None)\n\u001b[0m\u001b[1;32m    751\u001b[0m     \u001b[0;32melse\u001b[0m\u001b[0;34m:\u001b[0m\u001b[0;34m\u001b[0m\u001b[0m\n\u001b[1;32m    752\u001b[0m         \u001b[0my\u001b[0m \u001b[0;34m=\u001b[0m \u001b[0mcolumn_or_1d\u001b[0m\u001b[0;34m(\u001b[0m\u001b[0my\u001b[0m\u001b[0;34m,\u001b[0m \u001b[0mwarn\u001b[0m\u001b[0;34m=\u001b[0m\u001b[0;32mTrue\u001b[0m\u001b[0;34m)\u001b[0m\u001b[0;34m\u001b[0m\u001b[0m\n",
      "\u001b[0;32m/Library/Frameworks/Python.framework/Versions/3.7/lib/python3.7/site-packages/sklearn/utils/validation.py\u001b[0m in \u001b[0;36mcheck_array\u001b[0;34m(array, accept_sparse, accept_large_sparse, dtype, order, copy, force_all_finite, ensure_2d, allow_nd, ensure_min_samples, ensure_min_features, warn_on_dtype, estimator)\u001b[0m\n\u001b[1;32m    566\u001b[0m         \u001b[0;32mif\u001b[0m \u001b[0mforce_all_finite\u001b[0m\u001b[0;34m:\u001b[0m\u001b[0;34m\u001b[0m\u001b[0m\n\u001b[1;32m    567\u001b[0m             _assert_all_finite(array,\n\u001b[0;32m--> 568\u001b[0;31m                                allow_nan=force_all_finite == 'allow-nan')\n\u001b[0m\u001b[1;32m    569\u001b[0m \u001b[0;34m\u001b[0m\u001b[0m\n\u001b[1;32m    570\u001b[0m     \u001b[0mshape_repr\u001b[0m \u001b[0;34m=\u001b[0m \u001b[0m_shape_repr\u001b[0m\u001b[0;34m(\u001b[0m\u001b[0marray\u001b[0m\u001b[0;34m.\u001b[0m\u001b[0mshape\u001b[0m\u001b[0;34m)\u001b[0m\u001b[0;34m\u001b[0m\u001b[0m\n",
      "\u001b[0;32m/Library/Frameworks/Python.framework/Versions/3.7/lib/python3.7/site-packages/sklearn/utils/validation.py\u001b[0m in \u001b[0;36m_assert_all_finite\u001b[0;34m(X, allow_nan)\u001b[0m\n\u001b[1;32m     54\u001b[0m                 not allow_nan and not np.isfinite(X).all()):\n\u001b[1;32m     55\u001b[0m             \u001b[0mtype_err\u001b[0m \u001b[0;34m=\u001b[0m \u001b[0;34m'infinity'\u001b[0m \u001b[0;32mif\u001b[0m \u001b[0mallow_nan\u001b[0m \u001b[0;32melse\u001b[0m \u001b[0;34m'NaN, infinity'\u001b[0m\u001b[0;34m\u001b[0m\u001b[0m\n\u001b[0;32m---> 56\u001b[0;31m             \u001b[0;32mraise\u001b[0m \u001b[0mValueError\u001b[0m\u001b[0;34m(\u001b[0m\u001b[0mmsg_err\u001b[0m\u001b[0;34m.\u001b[0m\u001b[0mformat\u001b[0m\u001b[0;34m(\u001b[0m\u001b[0mtype_err\u001b[0m\u001b[0;34m,\u001b[0m \u001b[0mX\u001b[0m\u001b[0;34m.\u001b[0m\u001b[0mdtype\u001b[0m\u001b[0;34m)\u001b[0m\u001b[0;34m)\u001b[0m\u001b[0;34m\u001b[0m\u001b[0m\n\u001b[0m\u001b[1;32m     57\u001b[0m \u001b[0;34m\u001b[0m\u001b[0m\n\u001b[1;32m     58\u001b[0m \u001b[0;34m\u001b[0m\u001b[0m\n",
      "\u001b[0;31mValueError\u001b[0m: Input contains NaN, infinity or a value too large for dtype('float64')."
     ]
    },
    {
     "data": {
      "image/png": "[encoded data removed]",
      "text/plain": [
       "<Figure size 432x288 with 1 Axes>"
      ]
     },
     "metadata": {
      "needs_background": "light"
     },
     "output_type": "display_data"
    }
   ],
   "source": [
    "#Slowdown vs Temp: Linear Regression\n",
    "\n",
    "def slow_plot(year):\n",
    "    st = g[g[\"Year\"] == year]\n",
    "    #st.plot(x='temp', y='Slowdown', style='o')\n",
    "\n",
    "    meanslow = st[\"Slowdown\"].mean()\n",
    "    meantemp = st[\"temp\"].mean()\n",
    "    covmatrix = st[[\"temp\", \"Slowdown\"]].cov()\n",
    "    #print(meanslow, meantemp)\n",
    "    #print(covmatrix)\n",
    "\n",
    "    #a = Cov(X,Y)/Var(X), and b = E[Y] – aE[X]\n",
    "    a = covmatrix[\"temp\"][\"Slowdown\"] / covmatrix[\"temp\"][\"temp\"]\n",
    "    b = meanslow - a * meantemp\n",
    "    linename = \"s = \" + str(round(a,1)) + \" t\" + \" + \" + str(round(b,1))\n",
    "\n",
    "    print(linename)\n",
    "    #print(\"a\", a)\n",
    "    #print(\"b\", b)\n",
    "\n",
    "    CC = covmatrix[\"Slowdown\"][\"temp\"] ** 2\n",
    "    CC = CC / (covmatrix[\"Slowdown\"][\"Slowdown\"] * covmatrix[\"temp\"][\"temp\"] )\n",
    "    print(\"CC:\",np.sqrt(CC))\n",
    "\n",
    "    st.plot(x='temp', y='Slowdown', style='o')\n",
    "    x = np.linspace(st.temp.min(),st.temp.max(),10)\n",
    "    plt.plot(x, a*x + b, label=linename)\n",
    "    plt.legend()\n",
    "    \n",
    "    modelslow = LinearRegression()\n",
    "    xaxis = [\"temp\"]\n",
    "    X, y = st[xaxis], st[\"Slowdown\"]\n",
    "    #X = X.tolist()\n",
    "    #X = np.reshape(X, (len(X), 1))\n",
    "    modelslow.fit(X, y)\n",
    "    print(\"score:\", modelslow.score(X, y) ** 0.5)\n",
    "    \n",
    "    return [year, linename, np.sqrt(CC)]\n",
    "\n",
    "regs = []\n",
    "for year in [2014,2015,2016,2017,2018]:\n",
    "    print(year)\n",
    "    splot = slow_plot(year)\n",
    "    print(\"---------------------------------------------------\")\n",
    "    regs.append(splot)\n",
    "    \n",
    "print(regs)"
   ]
  },
  {
   "cell_type": "code",
   "execution_count": 41,
   "metadata": {},
   "outputs": [
    {
     "name": "stdout",
     "output_type": "stream",
     "text": [
      "\\begin{tabular}{lll}\n",
      "\\toprule\n",
      "Empty DataFrame\n",
      "Columns: Index(['Line', 'Correlation'], dtype='object')\n",
      "Index: Index([], dtype='object', name='Year') \\\\\n",
      "\\bottomrule\n",
      "\\end{tabular}\n",
      "\n"
     ]
    }
   ],
   "source": [
    "sd = pd.DataFrame(regs, columns = [\"Year\", \"Line\", \"Correlation\"])\n",
    "sd.index = sd.Year\n",
    "sd.Correlation = sd.Correlation.round(2)\n",
    "print(sd[[\"Line\", \"Correlation\"]].to_latex())"
   ]
  },
  {
   "cell_type": "code",
   "execution_count": 42,
   "metadata": {},
   "outputs": [
    {
     "name": "stdout",
     "output_type": "stream",
     "text": [
      "2014\n",
      "slowdown = 0.39803 temp^2 + -72.241\n",
      "CC: 0.3665834647486906\n",
      "score: 0.13475231408056454\n",
      "---------------------------------------------------\n",
      "2015\n",
      "slowdown = 1.12898 temp^2 + -91.491\n",
      "CC: 0.3533019734036492\n",
      "score: 0.13476005713459938\n",
      "---------------------------------------------------\n",
      "2016\n",
      "slowdown = 1.30968 temp^2 + -94.294\n",
      "CC: 0.2686143347755972\n",
      "score: 0.07224693488452638\n",
      "---------------------------------------------------\n",
      "2017\n",
      "slowdown = 0.61254 temp^2 + -111.06\n",
      "CC: 0.32422603833354535\n",
      "score: 0.10677616420583669\n",
      "---------------------------------------------------\n",
      "2018\n",
      "slowdown = -0.0407 temp^2 + 52.2955\n",
      "CC: 0.0742637211093698\n",
      "score: 0.005985792563295234\n",
      "---------------------------------------------------\n",
      "[[2014, 0.13475231408056454], [2015, 0.13476005713459938], [2016, 0.07224693488452638], [2017, 0.10677616420583669], [2018, 0.005985792563295234]]\n",
      "\\begin{tabular}{lr}\n",
      "\\toprule\n",
      "{} &  Correlation \\\\\n",
      "Year &              \\\\\n",
      "\\midrule\n",
      "2014 &         0.13 \\\\\n",
      "2015 &         0.13 \\\\\n",
      "2016 &         0.07 \\\\\n",
      "2017 &         0.11 \\\\\n",
      "2018 &         0.01 \\\\\n",
      "\\bottomrule\n",
      "\\end{tabular}\n",
      "\n"
     ]
    }
   ],
   "source": [
    "#Slowdown vs Temp: Quad Regression\n",
    "\n",
    "def slow_plot(year):\n",
    "    st = g[g[\"Year\"] == year].copy()\n",
    "    st[\"temp^2\"] = st[\"temp\"] * st[\"temp\"] \n",
    "    #st.plot(x='temp', y='Slowdown', style='o')\n",
    "\n",
    "    meanslow = st[\"Slowdown\"].mean()\n",
    "    meantemp = st[\"temp^2\"].mean()\n",
    "    covmatrix = st[[\"temp^2\", \"Slowdown\"]].cov()\n",
    "    #print(meanslow, meantemp)\n",
    "    #print(covmatrix)\n",
    "\n",
    "    #a = Cov(X,Y)/Var(X), and b = E[Y] – aE[X]\n",
    "    a = covmatrix[\"temp^2\"][\"Slowdown\"] / covmatrix[\"temp^2\"][\"temp^2\"]\n",
    "    b = meanslow - a * meantemp\n",
    "    linename = \"slowdown = \" + str(a)[:7] + \" temp^2\" + \" + \" + str(b)[0:7]\n",
    "\n",
    "    print(linename)\n",
    "    #print(\"a\", a)\n",
    "    #print(\"b\", b)\n",
    "\n",
    "    CC = covmatrix[\"Slowdown\"][\"temp^2\"] ** 2\n",
    "    CC = CC / (covmatrix[\"Slowdown\"][\"Slowdown\"] * covmatrix[\"temp^2\"][\"temp^2\"] )\n",
    "    print(\"CC:\",np.sqrt(CC))\n",
    "    \n",
    "    \"\"\"\n",
    "    st.plot(x='temp^2', y='Slowdown', style='o')\n",
    "    x = np.linspace(st.temp.min(),st.temp.max(),10)\n",
    "    plt.plot(x, a*x + b, label=linename)\n",
    "    plt.legend()\n",
    "    \"\"\"\n",
    "    \n",
    "    st = st.dropna(how = \"any\")\n",
    "    \n",
    "    linearmodel = LinearRegression()\n",
    "    X, y = st[[\"temp\", \"temp^2\"]], st[\"Slowdown\"]\n",
    "    linearmodel.fit(X, y)\n",
    "    print(\"score:\", linearmodel.score(X, y))\n",
    "    return [year, linearmodel.score(X, y)]\n",
    "\n",
    "regs = []\n",
    "for year in [2014,2015,2016,2017,2018]:\n",
    "    print(year)\n",
    "    splot = slow_plot(year)\n",
    "    print(\"---------------------------------------------------\")\n",
    "    regs.append(splot)\n",
    "    \n",
    "print(regs)\n",
    "sd = pd.DataFrame(regs, columns = [\"Year\", \"Correlation\"])\n",
    "sd.index = sd.Year\n",
    "sd.Correlation = sd.Correlation.round(2)\n",
    "print(sd[\"Correlation\"].to_latex())"
   ]
  },
  {
   "cell_type": "code",
   "execution_count": null,
   "metadata": {},
   "outputs": [],
   "source": []
  },
  {
   "cell_type": "code",
   "execution_count": 43,
   "metadata": {},
   "outputs": [],
   "source": [
    "#g.head()"
   ]
  },
  {
   "cell_type": "code",
   "execution_count": 87,
   "metadata": {},
   "outputs": [
    {
     "data": {
      "text/html": [
       "<div>\n",
       "<style scoped>\n",
       "    .dataframe tbody tr th:only-of-type {\n",
       "        vertical-align: middle;\n",
       "    }\n",
       "\n",
       "    .dataframe tbody tr th {\n",
       "        vertical-align: top;\n",
       "    }\n",
       "\n",
       "    .dataframe thead th {\n",
       "        text-align: right;\n",
       "    }\n",
       "</style>\n",
       "<table border=\"1\" class=\"dataframe\">\n",
       "  <thead>\n",
       "    <tr style=\"text-align: right;\">\n",
       "      <th></th>\n",
       "      <th>Name</th>\n",
       "      <th>Year</th>\n",
       "      <th>Gender</th>\n",
       "      <th>Nation</th>\n",
       "      <th>Category</th>\n",
       "      <th>Place</th>\n",
       "      <th>Finish</th>\n",
       "      <th>5K</th>\n",
       "      <th>10K</th>\n",
       "      <th>15K</th>\n",
       "      <th>...</th>\n",
       "      <th>21.1K</th>\n",
       "      <th>25K</th>\n",
       "      <th>30K</th>\n",
       "      <th>35K</th>\n",
       "      <th>40K</th>\n",
       "      <th>42.195K</th>\n",
       "      <th>Time Of Day</th>\n",
       "      <th>Slowdown</th>\n",
       "      <th>Speed Groups</th>\n",
       "      <th>Slowdown Groups</th>\n",
       "    </tr>\n",
       "  </thead>\n",
       "  <tbody>\n",
       "    <tr>\n",
       "      <th>0</th>\n",
       "      <td>NICOLA DUNCAN</td>\n",
       "      <td>2014</td>\n",
       "      <td>F</td>\n",
       "      <td>IRL</td>\n",
       "      <td>18-39</td>\n",
       "      <td>1.0</td>\n",
       "      <td>2.557778</td>\n",
       "      <td>0.059167</td>\n",
       "      <td>0.059722</td>\n",
       "      <td>0.060278</td>\n",
       "      <td>...</td>\n",
       "      <td>0.059722</td>\n",
       "      <td>0.060278</td>\n",
       "      <td>0.061389</td>\n",
       "      <td>0.061944</td>\n",
       "      <td>0.062222</td>\n",
       "      <td>0.062222</td>\n",
       "      <td>12:33:35</td>\n",
       "      <td>5.164319</td>\n",
       "      <td>sub3hours</td>\n",
       "      <td>to10</td>\n",
       "    </tr>\n",
       "    <tr>\n",
       "      <th>1</th>\n",
       "      <td>STEVEN WAY</td>\n",
       "      <td>2014</td>\n",
       "      <td>M</td>\n",
       "      <td>GBR</td>\n",
       "      <td>18-39</td>\n",
       "      <td>1.0</td>\n",
       "      <td>2.274167</td>\n",
       "      <td>0.053056</td>\n",
       "      <td>0.053611</td>\n",
       "      <td>0.053333</td>\n",
       "      <td>...</td>\n",
       "      <td>0.053056</td>\n",
       "      <td>0.053611</td>\n",
       "      <td>0.054444</td>\n",
       "      <td>0.055000</td>\n",
       "      <td>0.055556</td>\n",
       "      <td>0.055000</td>\n",
       "      <td>12:16:27</td>\n",
       "      <td>4.712042</td>\n",
       "      <td>sub3hours</td>\n",
       "      <td>to5</td>\n",
       "    </tr>\n",
       "    <tr>\n",
       "      <th>2</th>\n",
       "      <td>JULIE BRISCOE</td>\n",
       "      <td>2014</td>\n",
       "      <td>F</td>\n",
       "      <td>GBR</td>\n",
       "      <td>18-39</td>\n",
       "      <td>2.0</td>\n",
       "      <td>2.661944</td>\n",
       "      <td>0.061389</td>\n",
       "      <td>0.061389</td>\n",
       "      <td>0.061944</td>\n",
       "      <td>...</td>\n",
       "      <td>0.062222</td>\n",
       "      <td>0.062500</td>\n",
       "      <td>0.063889</td>\n",
       "      <td>0.065278</td>\n",
       "      <td>0.066111</td>\n",
       "      <td>0.065000</td>\n",
       "      <td>12:39:49</td>\n",
       "      <td>7.692308</td>\n",
       "      <td>sub3hours</td>\n",
       "      <td>to10</td>\n",
       "    </tr>\n",
       "    <tr>\n",
       "      <th>3</th>\n",
       "      <td>JOHN GILBERT</td>\n",
       "      <td>2014</td>\n",
       "      <td>M</td>\n",
       "      <td>GBR</td>\n",
       "      <td>18-39</td>\n",
       "      <td>2.0</td>\n",
       "      <td>2.279444</td>\n",
       "      <td>0.053056</td>\n",
       "      <td>0.053611</td>\n",
       "      <td>0.053333</td>\n",
       "      <td>...</td>\n",
       "      <td>0.052778</td>\n",
       "      <td>0.053611</td>\n",
       "      <td>0.054722</td>\n",
       "      <td>0.055278</td>\n",
       "      <td>0.055833</td>\n",
       "      <td>0.055278</td>\n",
       "      <td>12:16:47</td>\n",
       "      <td>5.235602</td>\n",
       "      <td>sub3hours</td>\n",
       "      <td>to10</td>\n",
       "    </tr>\n",
       "    <tr>\n",
       "      <th>4</th>\n",
       "      <td>SARA BIRD</td>\n",
       "      <td>2014</td>\n",
       "      <td>F</td>\n",
       "      <td>GBR</td>\n",
       "      <td>18-39</td>\n",
       "      <td>3.0</td>\n",
       "      <td>2.665278</td>\n",
       "      <td>0.061944</td>\n",
       "      <td>0.063056</td>\n",
       "      <td>0.062778</td>\n",
       "      <td>...</td>\n",
       "      <td>0.062222</td>\n",
       "      <td>0.061944</td>\n",
       "      <td>0.063889</td>\n",
       "      <td>0.064722</td>\n",
       "      <td>0.065000</td>\n",
       "      <td>0.063611</td>\n",
       "      <td>12:40:00</td>\n",
       "      <td>4.932735</td>\n",
       "      <td>sub3hours</td>\n",
       "      <td>to5</td>\n",
       "    </tr>\n",
       "  </tbody>\n",
       "</table>\n",
       "<p>5 rows × 21 columns</p>\n",
       "</div>"
      ],
      "text/plain": [
       "            Name  Year Gender Nation Category  Place    Finish        5K  \\\n",
       "0  NICOLA DUNCAN  2014      F    IRL    18-39    1.0  2.557778  0.059167   \n",
       "1     STEVEN WAY  2014      M    GBR    18-39    1.0  2.274167  0.053056   \n",
       "2  JULIE BRISCOE  2014      F    GBR    18-39    2.0  2.661944  0.061389   \n",
       "3   JOHN GILBERT  2014      M    GBR    18-39    2.0  2.279444  0.053056   \n",
       "4      SARA BIRD  2014      F    GBR    18-39    3.0  2.665278  0.061944   \n",
       "\n",
       "        10K       15K       ...           21.1K       25K       30K       35K  \\\n",
       "0  0.059722  0.060278       ...        0.059722  0.060278  0.061389  0.061944   \n",
       "1  0.053611  0.053333       ...        0.053056  0.053611  0.054444  0.055000   \n",
       "2  0.061389  0.061944       ...        0.062222  0.062500  0.063889  0.065278   \n",
       "3  0.053611  0.053333       ...        0.052778  0.053611  0.054722  0.055278   \n",
       "4  0.063056  0.062778       ...        0.062222  0.061944  0.063889  0.064722   \n",
       "\n",
       "        40K   42.195K  Time Of Day  Slowdown  Speed Groups Slowdown Groups  \n",
       "0  0.062222  0.062222     12:33:35  5.164319     sub3hours            to10  \n",
       "1  0.055556  0.055000     12:16:27  4.712042     sub3hours             to5  \n",
       "2  0.066111  0.065000     12:39:49  7.692308     sub3hours            to10  \n",
       "3  0.055833  0.055278     12:16:47  5.235602     sub3hours            to10  \n",
       "4  0.065000  0.063611     12:40:00  4.932735     sub3hours             to5  \n",
       "\n",
       "[5 rows x 21 columns]"
      ]
     },
     "execution_count": 87,
     "metadata": {},
     "output_type": "execute_result"
    }
   ],
   "source": [
    "g['Slowdown Groups'] = pd.cut(g.Slowdown, [-100,0,5,10,50,100,1000], right=False, \n",
    "                              labels = ['negative', 'to5', 'to10', 'to50', 'to100', 'over100'])\n",
    "g.head()"
   ]
  },
  {
   "cell_type": "code",
   "execution_count": 45,
   "metadata": {},
   "outputs": [
    {
     "ename": "ValueError",
     "evalue": "Input contains NaN, infinity or a value too large for dtype('float64').",
     "output_type": "error",
     "traceback": [
      "\u001b[0;31m---------------------------------------------------------------------------\u001b[0m",
      "\u001b[0;31mValueError\u001b[0m                                Traceback (most recent call last)",
      "\u001b[0;32m<ipython-input-45-75ebbe2ae45a>\u001b[0m in \u001b[0;36m<module>\u001b[0;34m\u001b[0m\n\u001b[1;32m      5\u001b[0m \u001b[0;31m#X = X.tolist()\u001b[0m\u001b[0;34m\u001b[0m\u001b[0;34m\u001b[0m\u001b[0m\n\u001b[1;32m      6\u001b[0m \u001b[0;31m#X = np.reshape(X, (len(X), 1))\u001b[0m\u001b[0;34m\u001b[0m\u001b[0;34m\u001b[0m\u001b[0m\n\u001b[0;32m----> 7\u001b[0;31m \u001b[0mlinearmodel2\u001b[0m\u001b[0;34m.\u001b[0m\u001b[0mfit\u001b[0m\u001b[0;34m(\u001b[0m\u001b[0mX\u001b[0m\u001b[0;34m,\u001b[0m \u001b[0my\u001b[0m\u001b[0;34m)\u001b[0m\u001b[0;34m\u001b[0m\u001b[0m\n\u001b[0m\u001b[1;32m      8\u001b[0m \u001b[0mprint\u001b[0m\u001b[0;34m(\u001b[0m\u001b[0;34m\"score:\"\u001b[0m\u001b[0;34m,\u001b[0m \u001b[0mlinearmodel2\u001b[0m\u001b[0;34m.\u001b[0m\u001b[0mscore\u001b[0m\u001b[0;34m(\u001b[0m\u001b[0mX\u001b[0m\u001b[0;34m,\u001b[0m \u001b[0my\u001b[0m\u001b[0;34m)\u001b[0m\u001b[0;34m)\u001b[0m\u001b[0;34m\u001b[0m\u001b[0m\n",
      "\u001b[0;32m/Library/Frameworks/Python.framework/Versions/3.7/lib/python3.7/site-packages/sklearn/linear_model/base.py\u001b[0m in \u001b[0;36mfit\u001b[0;34m(self, X, y, sample_weight)\u001b[0m\n\u001b[1;32m    456\u001b[0m         \u001b[0mn_jobs_\u001b[0m \u001b[0;34m=\u001b[0m \u001b[0mself\u001b[0m\u001b[0;34m.\u001b[0m\u001b[0mn_jobs\u001b[0m\u001b[0;34m\u001b[0m\u001b[0m\n\u001b[1;32m    457\u001b[0m         X, y = check_X_y(X, y, accept_sparse=['csr', 'csc', 'coo'],\n\u001b[0;32m--> 458\u001b[0;31m                          y_numeric=True, multi_output=True)\n\u001b[0m\u001b[1;32m    459\u001b[0m \u001b[0;34m\u001b[0m\u001b[0m\n\u001b[1;32m    460\u001b[0m         \u001b[0;32mif\u001b[0m \u001b[0msample_weight\u001b[0m \u001b[0;32mis\u001b[0m \u001b[0;32mnot\u001b[0m \u001b[0;32mNone\u001b[0m \u001b[0;32mand\u001b[0m \u001b[0mnp\u001b[0m\u001b[0;34m.\u001b[0m\u001b[0matleast_1d\u001b[0m\u001b[0;34m(\u001b[0m\u001b[0msample_weight\u001b[0m\u001b[0;34m)\u001b[0m\u001b[0;34m.\u001b[0m\u001b[0mndim\u001b[0m \u001b[0;34m>\u001b[0m \u001b[0;36m1\u001b[0m\u001b[0;34m:\u001b[0m\u001b[0;34m\u001b[0m\u001b[0m\n",
      "\u001b[0;32m/Library/Frameworks/Python.framework/Versions/3.7/lib/python3.7/site-packages/sklearn/utils/validation.py\u001b[0m in \u001b[0;36mcheck_X_y\u001b[0;34m(X, y, accept_sparse, accept_large_sparse, dtype, order, copy, force_all_finite, ensure_2d, allow_nd, multi_output, ensure_min_samples, ensure_min_features, y_numeric, warn_on_dtype, estimator)\u001b[0m\n\u001b[1;32m    748\u001b[0m     \u001b[0;32mif\u001b[0m \u001b[0mmulti_output\u001b[0m\u001b[0;34m:\u001b[0m\u001b[0;34m\u001b[0m\u001b[0m\n\u001b[1;32m    749\u001b[0m         y = check_array(y, 'csr', force_all_finite=True, ensure_2d=False,\n\u001b[0;32m--> 750\u001b[0;31m                         dtype=None)\n\u001b[0m\u001b[1;32m    751\u001b[0m     \u001b[0;32melse\u001b[0m\u001b[0;34m:\u001b[0m\u001b[0;34m\u001b[0m\u001b[0m\n\u001b[1;32m    752\u001b[0m         \u001b[0my\u001b[0m \u001b[0;34m=\u001b[0m \u001b[0mcolumn_or_1d\u001b[0m\u001b[0;34m(\u001b[0m\u001b[0my\u001b[0m\u001b[0;34m,\u001b[0m \u001b[0mwarn\u001b[0m\u001b[0;34m=\u001b[0m\u001b[0;32mTrue\u001b[0m\u001b[0;34m)\u001b[0m\u001b[0;34m\u001b[0m\u001b[0m\n",
      "\u001b[0;32m/Library/Frameworks/Python.framework/Versions/3.7/lib/python3.7/site-packages/sklearn/utils/validation.py\u001b[0m in \u001b[0;36mcheck_array\u001b[0;34m(array, accept_sparse, accept_large_sparse, dtype, order, copy, force_all_finite, ensure_2d, allow_nd, ensure_min_samples, ensure_min_features, warn_on_dtype, estimator)\u001b[0m\n\u001b[1;32m    566\u001b[0m         \u001b[0;32mif\u001b[0m \u001b[0mforce_all_finite\u001b[0m\u001b[0;34m:\u001b[0m\u001b[0;34m\u001b[0m\u001b[0m\n\u001b[1;32m    567\u001b[0m             _assert_all_finite(array,\n\u001b[0;32m--> 568\u001b[0;31m                                allow_nan=force_all_finite == 'allow-nan')\n\u001b[0m\u001b[1;32m    569\u001b[0m \u001b[0;34m\u001b[0m\u001b[0m\n\u001b[1;32m    570\u001b[0m     \u001b[0mshape_repr\u001b[0m \u001b[0;34m=\u001b[0m \u001b[0m_shape_repr\u001b[0m\u001b[0;34m(\u001b[0m\u001b[0marray\u001b[0m\u001b[0;34m.\u001b[0m\u001b[0mshape\u001b[0m\u001b[0;34m)\u001b[0m\u001b[0;34m\u001b[0m\u001b[0m\n",
      "\u001b[0;32m/Library/Frameworks/Python.framework/Versions/3.7/lib/python3.7/site-packages/sklearn/utils/validation.py\u001b[0m in \u001b[0;36m_assert_all_finite\u001b[0;34m(X, allow_nan)\u001b[0m\n\u001b[1;32m     54\u001b[0m                 not allow_nan and not np.isfinite(X).all()):\n\u001b[1;32m     55\u001b[0m             \u001b[0mtype_err\u001b[0m \u001b[0;34m=\u001b[0m \u001b[0;34m'infinity'\u001b[0m \u001b[0;32mif\u001b[0m \u001b[0mallow_nan\u001b[0m \u001b[0;32melse\u001b[0m \u001b[0;34m'NaN, infinity'\u001b[0m\u001b[0;34m\u001b[0m\u001b[0m\n\u001b[0;32m---> 56\u001b[0;31m             \u001b[0;32mraise\u001b[0m \u001b[0mValueError\u001b[0m\u001b[0;34m(\u001b[0m\u001b[0mmsg_err\u001b[0m\u001b[0;34m.\u001b[0m\u001b[0mformat\u001b[0m\u001b[0;34m(\u001b[0m\u001b[0mtype_err\u001b[0m\u001b[0;34m,\u001b[0m \u001b[0mX\u001b[0m\u001b[0;34m.\u001b[0m\u001b[0mdtype\u001b[0m\u001b[0;34m)\u001b[0m\u001b[0;34m)\u001b[0m\u001b[0;34m\u001b[0m\u001b[0m\n\u001b[0m\u001b[1;32m     57\u001b[0m \u001b[0;34m\u001b[0m\u001b[0m\n\u001b[1;32m     58\u001b[0m \u001b[0;34m\u001b[0m\u001b[0m\n",
      "\u001b[0;31mValueError\u001b[0m: Input contains NaN, infinity or a value too large for dtype('float64')."
     ]
    }
   ],
   "source": [
    "linearmodel2 = LinearRegression()\n",
    "v = g[g[\"Year\"] == 2015].copy()\n",
    "xaxis = [\"temp\"]\n",
    "X, y = v[xaxis], v[\"Slowdown\"]\n",
    "#X = X.tolist()\n",
    "#X = np.reshape(X, (len(X), 1))\n",
    "linearmodel2.fit(X, y)\n",
    "print(\"score:\", linearmodel2.score(X, y))"
   ]
  },
  {
   "cell_type": "code",
   "execution_count": 46,
   "metadata": {},
   "outputs": [
    {
     "name": "stderr",
     "output_type": "stream",
     "text": [
      "/Library/Frameworks/Python.framework/Versions/3.7/lib/python3.7/site-packages/sklearn/linear_model/logistic.py:432: FutureWarning: Default solver will be changed to 'lbfgs' in 0.22. Specify a solver to silence this warning.\n",
      "  FutureWarning)\n",
      "/Library/Frameworks/Python.framework/Versions/3.7/lib/python3.7/site-packages/sklearn/linear_model/logistic.py:459: FutureWarning: Default multi_class will be changed to 'auto' in 0.22. Specify the multi_class option to silence this warning.\n",
      "  \"this warning.\", FutureWarning)\n"
     ]
    },
    {
     "data": {
      "text/plain": [
       "0.8218079240499727"
      ]
     },
     "execution_count": 46,
     "metadata": {},
     "output_type": "execute_result"
    }
   ],
   "source": [
    "from sklearn.linear_model import LogisticRegression\n",
    "g = g.dropna(how = \"any\")\n",
    "X = g[\"temp\"].tolist()\n",
    "X = np.reshape(X, (len(X), 1))\n",
    "Y = g[\"Slowdown Groups\"]\n",
    "\n",
    "lr1 = LogisticRegression().fit(X, Y)\n",
    "lr1.score(X, Y) ** 0.5"
   ]
  },
  {
   "cell_type": "code",
   "execution_count": 47,
   "metadata": {},
   "outputs": [
    {
     "data": {
      "text/plain": [
       "[sub3hours, sub4hours, sub5hours, over5hours]\n",
       "Categories (4, object): [sub3hours < sub4hours < sub5hours < over5hours]"
      ]
     },
     "execution_count": 47,
     "metadata": {},
     "output_type": "execute_result"
    }
   ],
   "source": [
    "g[\"Speed Groups\"].unique()"
   ]
  },
  {
   "cell_type": "code",
   "execution_count": 48,
   "metadata": {},
   "outputs": [
    {
     "name": "stdout",
     "output_type": "stream",
     "text": [
      "[['sub3hours', 0.6234660134384852], ['sub4hours', 0.7509016257004749], ['sub5hours', 0.8521211301417166], ['over5hours', 0.8784461576214053]]\n"
     ]
    },
    {
     "data": {
      "text/plain": [
       "Text(0, 0.5, 'Correlation Coefficient')"
      ]
     },
     "execution_count": 48,
     "metadata": {},
     "output_type": "execute_result"
    },
    {
     "data": {
      "image/png": "[encoded data removed]",
      "text/plain": [
       "<Figure size 432x288 with 1 Axes>"
      ]
     },
     "metadata": {
      "needs_background": "light"
     },
     "output_type": "display_data"
    }
   ],
   "source": [
    "speedcc = []\n",
    "for sg in [\"sub3hours\", \"sub4hours\", \"sub5hours\", \"over5hours\"]:\n",
    "    m = g.dropna(how = \"any\").copy()\n",
    "    m = m[m[\"Speed Groups\"] == sg]\n",
    "    X = m[\"temp\"].tolist()\n",
    "    X = np.reshape(X, (len(X), 1))\n",
    "    Y = m[\"Slowdown Groups\"]\n",
    "\n",
    "    lr3 = LogisticRegression(multi_class = \"auto\", solver = \"liblinear\").fit(X, Y)\n",
    "    speedcc.append([sg, lr3.score(X, Y) ** 0.5])\n",
    "print(speedcc)\n",
    "\n",
    "speed = pd.DataFrame(speedcc, columns = [\"Speed Groups\", \"CC\"])\n",
    "speed.index = speed[\"Speed Groups\"]\n",
    "speed.plot(kind = \"bar\", rot = 0, legend = False)\n",
    "plt.ylabel(\"Correlation Coefficient\")"
   ]
  },
  {
   "cell_type": "code",
   "execution_count": 49,
   "metadata": {},
   "outputs": [
    {
     "ename": "KeyboardInterrupt",
     "evalue": "",
     "output_type": "error",
     "traceback": [
      "\u001b[0;31m---------------------------------------------------------------------------\u001b[0m",
      "\u001b[0;31mKeyboardInterrupt\u001b[0m                         Traceback (most recent call last)",
      "\u001b[0;32m<ipython-input-49-8ac417fe9e43>\u001b[0m in \u001b[0;36m<module>\u001b[0;34m\u001b[0m\n\u001b[1;32m      3\u001b[0m \u001b[0;32mfor\u001b[0m \u001b[0mitem\u001b[0m \u001b[0;32min\u001b[0m \u001b[0mnation\u001b[0m\u001b[0;34m:\u001b[0m\u001b[0;34m\u001b[0m\u001b[0m\n\u001b[1;32m      4\u001b[0m     \u001b[0mu\u001b[0m\u001b[0;34m[\u001b[0m\u001b[0mitem\u001b[0m\u001b[0;34m]\u001b[0m \u001b[0;34m=\u001b[0m \u001b[0;36m0\u001b[0m\u001b[0;34m\u001b[0m\u001b[0m\n\u001b[0;32m----> 5\u001b[0;31m     \u001b[0mu\u001b[0m\u001b[0;34m.\u001b[0m\u001b[0mloc\u001b[0m\u001b[0;34m[\u001b[0m\u001b[0mu\u001b[0m\u001b[0;34m[\u001b[0m\u001b[0;34m\"Nation\"\u001b[0m\u001b[0;34m]\u001b[0m \u001b[0;34m==\u001b[0m \u001b[0mitem\u001b[0m\u001b[0;34m,\u001b[0m \u001b[0mitem\u001b[0m\u001b[0;34m]\u001b[0m \u001b[0;34m=\u001b[0m \u001b[0;36m1\u001b[0m\u001b[0;34m\u001b[0m\u001b[0m\n\u001b[0m\u001b[1;32m      6\u001b[0m \u001b[0;34m\u001b[0m\u001b[0m\n\u001b[1;32m      7\u001b[0m \u001b[0mu\u001b[0m\u001b[0;34m.\u001b[0m\u001b[0mhead\u001b[0m\u001b[0;34m(\u001b[0m\u001b[0;34m)\u001b[0m\u001b[0;34m\u001b[0m\u001b[0m\n",
      "\u001b[0;32m/Library/Frameworks/Python.framework/Versions/3.7/lib/python3.7/site-packages/pandas/core/indexing.py\u001b[0m in \u001b[0;36m__setitem__\u001b[0;34m(self, key, value)\u001b[0m\n\u001b[1;32m    187\u001b[0m             \u001b[0mkey\u001b[0m \u001b[0;34m=\u001b[0m \u001b[0mcom\u001b[0m\u001b[0;34m.\u001b[0m\u001b[0m_apply_if_callable\u001b[0m\u001b[0;34m(\u001b[0m\u001b[0mkey\u001b[0m\u001b[0;34m,\u001b[0m \u001b[0mself\u001b[0m\u001b[0;34m.\u001b[0m\u001b[0mobj\u001b[0m\u001b[0;34m)\u001b[0m\u001b[0;34m\u001b[0m\u001b[0m\n\u001b[1;32m    188\u001b[0m         \u001b[0mindexer\u001b[0m \u001b[0;34m=\u001b[0m \u001b[0mself\u001b[0m\u001b[0;34m.\u001b[0m\u001b[0m_get_setitem_indexer\u001b[0m\u001b[0;34m(\u001b[0m\u001b[0mkey\u001b[0m\u001b[0;34m)\u001b[0m\u001b[0;34m\u001b[0m\u001b[0m\n\u001b[0;32m--> 189\u001b[0;31m         \u001b[0mself\u001b[0m\u001b[0;34m.\u001b[0m\u001b[0m_setitem_with_indexer\u001b[0m\u001b[0;34m(\u001b[0m\u001b[0mindexer\u001b[0m\u001b[0;34m,\u001b[0m \u001b[0mvalue\u001b[0m\u001b[0;34m)\u001b[0m\u001b[0;34m\u001b[0m\u001b[0m\n\u001b[0m\u001b[1;32m    190\u001b[0m \u001b[0;34m\u001b[0m\u001b[0m\n\u001b[1;32m    191\u001b[0m     \u001b[0;32mdef\u001b[0m \u001b[0m_validate_key\u001b[0m\u001b[0;34m(\u001b[0m\u001b[0mself\u001b[0m\u001b[0;34m,\u001b[0m \u001b[0mkey\u001b[0m\u001b[0;34m,\u001b[0m \u001b[0maxis\u001b[0m\u001b[0;34m)\u001b[0m\u001b[0;34m:\u001b[0m\u001b[0;34m\u001b[0m\u001b[0m\n",
      "\u001b[0;32m/Library/Frameworks/Python.framework/Versions/3.7/lib/python3.7/site-packages/pandas/core/indexing.py\u001b[0m in \u001b[0;36m_setitem_with_indexer\u001b[0;34m(self, indexer, value)\u001b[0m\n\u001b[1;32m    305\u001b[0m \u001b[0;34m\u001b[0m\u001b[0m\n\u001b[1;32m    306\u001b[0m         \u001b[0;31m# maybe partial set\u001b[0m\u001b[0;34m\u001b[0m\u001b[0;34m\u001b[0m\u001b[0m\n\u001b[0;32m--> 307\u001b[0;31m         \u001b[0mtake_split_path\u001b[0m \u001b[0;34m=\u001b[0m \u001b[0mself\u001b[0m\u001b[0;34m.\u001b[0m\u001b[0mobj\u001b[0m\u001b[0;34m.\u001b[0m\u001b[0m_is_mixed_type\u001b[0m\u001b[0;34m\u001b[0m\u001b[0m\n\u001b[0m\u001b[1;32m    308\u001b[0m \u001b[0;34m\u001b[0m\u001b[0m\n\u001b[1;32m    309\u001b[0m         \u001b[0;31m# if there is only one block/type, still have to take split path\u001b[0m\u001b[0;34m\u001b[0m\u001b[0;34m\u001b[0m\u001b[0m\n",
      "\u001b[0;32m/Library/Frameworks/Python.framework/Versions/3.7/lib/python3.7/site-packages/pandas/core/generic.py\u001b[0m in \u001b[0;36m_is_mixed_type\u001b[0;34m(self)\u001b[0m\n\u001b[1;32m   4476\u001b[0m     \u001b[0;32mdef\u001b[0m \u001b[0m_is_mixed_type\u001b[0m\u001b[0;34m(\u001b[0m\u001b[0mself\u001b[0m\u001b[0;34m)\u001b[0m\u001b[0;34m:\u001b[0m\u001b[0;34m\u001b[0m\u001b[0m\n\u001b[1;32m   4477\u001b[0m         \u001b[0mf\u001b[0m \u001b[0;34m=\u001b[0m \u001b[0;32mlambda\u001b[0m\u001b[0;34m:\u001b[0m \u001b[0mself\u001b[0m\u001b[0;34m.\u001b[0m\u001b[0m_data\u001b[0m\u001b[0;34m.\u001b[0m\u001b[0mis_mixed_type\u001b[0m\u001b[0;34m\u001b[0m\u001b[0m\n\u001b[0;32m-> 4478\u001b[0;31m         \u001b[0;32mreturn\u001b[0m \u001b[0mself\u001b[0m\u001b[0;34m.\u001b[0m\u001b[0m_protect_consolidate\u001b[0m\u001b[0;34m(\u001b[0m\u001b[0mf\u001b[0m\u001b[0;34m)\u001b[0m\u001b[0;34m\u001b[0m\u001b[0m\n\u001b[0m\u001b[1;32m   4479\u001b[0m \u001b[0;34m\u001b[0m\u001b[0m\n\u001b[1;32m   4480\u001b[0m     \u001b[0;34m@\u001b[0m\u001b[0mproperty\u001b[0m\u001b[0;34m\u001b[0m\u001b[0m\n",
      "\u001b[0;32m/Library/Frameworks/Python.framework/Versions/3.7/lib/python3.7/site-packages/pandas/core/generic.py\u001b[0m in \u001b[0;36m_protect_consolidate\u001b[0;34m(self, f)\u001b[0m\n\u001b[1;32m   4426\u001b[0m         \"\"\"\n\u001b[1;32m   4427\u001b[0m         \u001b[0mblocks_before\u001b[0m \u001b[0;34m=\u001b[0m \u001b[0mlen\u001b[0m\u001b[0;34m(\u001b[0m\u001b[0mself\u001b[0m\u001b[0;34m.\u001b[0m\u001b[0m_data\u001b[0m\u001b[0;34m.\u001b[0m\u001b[0mblocks\u001b[0m\u001b[0;34m)\u001b[0m\u001b[0;34m\u001b[0m\u001b[0m\n\u001b[0;32m-> 4428\u001b[0;31m         \u001b[0mresult\u001b[0m \u001b[0;34m=\u001b[0m \u001b[0mf\u001b[0m\u001b[0;34m(\u001b[0m\u001b[0;34m)\u001b[0m\u001b[0;34m\u001b[0m\u001b[0m\n\u001b[0m\u001b[1;32m   4429\u001b[0m         \u001b[0;32mif\u001b[0m \u001b[0mlen\u001b[0m\u001b[0;34m(\u001b[0m\u001b[0mself\u001b[0m\u001b[0;34m.\u001b[0m\u001b[0m_data\u001b[0m\u001b[0;34m.\u001b[0m\u001b[0mblocks\u001b[0m\u001b[0;34m)\u001b[0m \u001b[0;34m!=\u001b[0m \u001b[0mblocks_before\u001b[0m\u001b[0;34m:\u001b[0m\u001b[0;34m\u001b[0m\u001b[0m\n\u001b[1;32m   4430\u001b[0m             \u001b[0mself\u001b[0m\u001b[0;34m.\u001b[0m\u001b[0m_clear_item_cache\u001b[0m\u001b[0;34m(\u001b[0m\u001b[0;34m)\u001b[0m\u001b[0;34m\u001b[0m\u001b[0m\n",
      "\u001b[0;32m/Library/Frameworks/Python.framework/Versions/3.7/lib/python3.7/site-packages/pandas/core/generic.py\u001b[0m in \u001b[0;36m<lambda>\u001b[0;34m()\u001b[0m\n\u001b[1;32m   4475\u001b[0m     \u001b[0;34m@\u001b[0m\u001b[0mproperty\u001b[0m\u001b[0;34m\u001b[0m\u001b[0m\n\u001b[1;32m   4476\u001b[0m     \u001b[0;32mdef\u001b[0m \u001b[0m_is_mixed_type\u001b[0m\u001b[0;34m(\u001b[0m\u001b[0mself\u001b[0m\u001b[0;34m)\u001b[0m\u001b[0;34m:\u001b[0m\u001b[0;34m\u001b[0m\u001b[0m\n\u001b[0;32m-> 4477\u001b[0;31m         \u001b[0mf\u001b[0m \u001b[0;34m=\u001b[0m \u001b[0;32mlambda\u001b[0m\u001b[0;34m:\u001b[0m \u001b[0mself\u001b[0m\u001b[0;34m.\u001b[0m\u001b[0m_data\u001b[0m\u001b[0;34m.\u001b[0m\u001b[0mis_mixed_type\u001b[0m\u001b[0;34m\u001b[0m\u001b[0m\n\u001b[0m\u001b[1;32m   4478\u001b[0m         \u001b[0;32mreturn\u001b[0m \u001b[0mself\u001b[0m\u001b[0;34m.\u001b[0m\u001b[0m_protect_consolidate\u001b[0m\u001b[0;34m(\u001b[0m\u001b[0mf\u001b[0m\u001b[0;34m)\u001b[0m\u001b[0;34m\u001b[0m\u001b[0m\n\u001b[1;32m   4479\u001b[0m \u001b[0;34m\u001b[0m\u001b[0m\n",
      "\u001b[0;32m/Library/Frameworks/Python.framework/Versions/3.7/lib/python3.7/site-packages/pandas/core/internals.py\u001b[0m in \u001b[0;36mis_mixed_type\u001b[0;34m(self)\u001b[0m\n\u001b[1;32m   3790\u001b[0m     \u001b[0;32mdef\u001b[0m \u001b[0mis_mixed_type\u001b[0m\u001b[0;34m(\u001b[0m\u001b[0mself\u001b[0m\u001b[0;34m)\u001b[0m\u001b[0;34m:\u001b[0m\u001b[0;34m\u001b[0m\u001b[0m\n\u001b[1;32m   3791\u001b[0m         \u001b[0;31m# Warning, consolidation needs to get checked upstairs\u001b[0m\u001b[0;34m\u001b[0m\u001b[0;34m\u001b[0m\u001b[0m\n\u001b[0;32m-> 3792\u001b[0;31m         \u001b[0mself\u001b[0m\u001b[0;34m.\u001b[0m\u001b[0m_consolidate_inplace\u001b[0m\u001b[0;34m(\u001b[0m\u001b[0;34m)\u001b[0m\u001b[0;34m\u001b[0m\u001b[0m\n\u001b[0m\u001b[1;32m   3793\u001b[0m         \u001b[0;32mreturn\u001b[0m \u001b[0mlen\u001b[0m\u001b[0;34m(\u001b[0m\u001b[0mself\u001b[0m\u001b[0;34m.\u001b[0m\u001b[0mblocks\u001b[0m\u001b[0;34m)\u001b[0m \u001b[0;34m>\u001b[0m \u001b[0;36m1\u001b[0m\u001b[0;34m\u001b[0m\u001b[0m\n\u001b[1;32m   3794\u001b[0m \u001b[0;34m\u001b[0m\u001b[0m\n",
      "\u001b[0;32m/Library/Frameworks/Python.framework/Versions/3.7/lib/python3.7/site-packages/pandas/core/internals.py\u001b[0m in \u001b[0;36m_consolidate_inplace\u001b[0;34m(self)\u001b[0m\n\u001b[1;32m   4101\u001b[0m     \u001b[0;32mdef\u001b[0m \u001b[0m_consolidate_inplace\u001b[0m\u001b[0;34m(\u001b[0m\u001b[0mself\u001b[0m\u001b[0;34m)\u001b[0m\u001b[0;34m:\u001b[0m\u001b[0;34m\u001b[0m\u001b[0m\n\u001b[1;32m   4102\u001b[0m         \u001b[0;32mif\u001b[0m \u001b[0;32mnot\u001b[0m \u001b[0mself\u001b[0m\u001b[0;34m.\u001b[0m\u001b[0mis_consolidated\u001b[0m\u001b[0;34m(\u001b[0m\u001b[0;34m)\u001b[0m\u001b[0;34m:\u001b[0m\u001b[0;34m\u001b[0m\u001b[0m\n\u001b[0;32m-> 4103\u001b[0;31m             \u001b[0mself\u001b[0m\u001b[0;34m.\u001b[0m\u001b[0mblocks\u001b[0m \u001b[0;34m=\u001b[0m \u001b[0mtuple\u001b[0m\u001b[0;34m(\u001b[0m\u001b[0m_consolidate\u001b[0m\u001b[0;34m(\u001b[0m\u001b[0mself\u001b[0m\u001b[0;34m.\u001b[0m\u001b[0mblocks\u001b[0m\u001b[0;34m)\u001b[0m\u001b[0;34m)\u001b[0m\u001b[0;34m\u001b[0m\u001b[0m\n\u001b[0m\u001b[1;32m   4104\u001b[0m             \u001b[0mself\u001b[0m\u001b[0;34m.\u001b[0m\u001b[0m_is_consolidated\u001b[0m \u001b[0;34m=\u001b[0m \u001b[0;32mTrue\u001b[0m\u001b[0;34m\u001b[0m\u001b[0m\n\u001b[1;32m   4105\u001b[0m             \u001b[0mself\u001b[0m\u001b[0;34m.\u001b[0m\u001b[0m_known_consolidated\u001b[0m \u001b[0;34m=\u001b[0m \u001b[0;32mTrue\u001b[0m\u001b[0;34m\u001b[0m\u001b[0m\n",
      "\u001b[0;32m/Library/Frameworks/Python.framework/Versions/3.7/lib/python3.7/site-packages/pandas/core/internals.py\u001b[0m in \u001b[0;36m_consolidate\u001b[0;34m(blocks)\u001b[0m\n\u001b[1;32m   5067\u001b[0m     \u001b[0;32mfor\u001b[0m \u001b[0;34m(\u001b[0m\u001b[0m_can_consolidate\u001b[0m\u001b[0;34m,\u001b[0m \u001b[0mdtype\u001b[0m\u001b[0;34m)\u001b[0m\u001b[0;34m,\u001b[0m \u001b[0mgroup_blocks\u001b[0m \u001b[0;32min\u001b[0m \u001b[0mgrouper\u001b[0m\u001b[0;34m:\u001b[0m\u001b[0;34m\u001b[0m\u001b[0m\n\u001b[1;32m   5068\u001b[0m         merged_blocks = _merge_blocks(list(group_blocks), dtype=dtype,\n\u001b[0;32m-> 5069\u001b[0;31m                                       _can_consolidate=_can_consolidate)\n\u001b[0m\u001b[1;32m   5070\u001b[0m         \u001b[0mnew_blocks\u001b[0m \u001b[0;34m=\u001b[0m \u001b[0m_extend_blocks\u001b[0m\u001b[0;34m(\u001b[0m\u001b[0mmerged_blocks\u001b[0m\u001b[0;34m,\u001b[0m \u001b[0mnew_blocks\u001b[0m\u001b[0;34m)\u001b[0m\u001b[0;34m\u001b[0m\u001b[0m\n\u001b[1;32m   5071\u001b[0m     \u001b[0;32mreturn\u001b[0m \u001b[0mnew_blocks\u001b[0m\u001b[0;34m\u001b[0m\u001b[0m\n",
      "\u001b[0;32m/Library/Frameworks/Python.framework/Versions/3.7/lib/python3.7/site-packages/pandas/core/internals.py\u001b[0m in \u001b[0;36m_merge_blocks\u001b[0;34m(blocks, dtype, _can_consolidate)\u001b[0m\n\u001b[1;32m   5090\u001b[0m \u001b[0;34m\u001b[0m\u001b[0m\n\u001b[1;32m   5091\u001b[0m         \u001b[0margsort\u001b[0m \u001b[0;34m=\u001b[0m \u001b[0mnp\u001b[0m\u001b[0;34m.\u001b[0m\u001b[0margsort\u001b[0m\u001b[0;34m(\u001b[0m\u001b[0mnew_mgr_locs\u001b[0m\u001b[0;34m)\u001b[0m\u001b[0;34m\u001b[0m\u001b[0m\n\u001b[0;32m-> 5092\u001b[0;31m         \u001b[0mnew_values\u001b[0m \u001b[0;34m=\u001b[0m \u001b[0mnew_values\u001b[0m\u001b[0;34m[\u001b[0m\u001b[0margsort\u001b[0m\u001b[0;34m]\u001b[0m\u001b[0;34m\u001b[0m\u001b[0m\n\u001b[0m\u001b[1;32m   5093\u001b[0m         \u001b[0mnew_mgr_locs\u001b[0m \u001b[0;34m=\u001b[0m \u001b[0mnew_mgr_locs\u001b[0m\u001b[0;34m[\u001b[0m\u001b[0margsort\u001b[0m\u001b[0;34m]\u001b[0m\u001b[0;34m\u001b[0m\u001b[0m\n\u001b[1;32m   5094\u001b[0m \u001b[0;34m\u001b[0m\u001b[0m\n",
      "\u001b[0;31mKeyboardInterrupt\u001b[0m: "
     ]
    }
   ],
   "source": [
    "u = g.copy()\n",
    "nation = u[\"Nation\"].unique().tolist()\n",
    "for item in nation:\n",
    "    u[item] = 0\n",
    "    u.loc[u[\"Nation\"] == item, item] = 1\n",
    "\n",
    "u.head()"
   ]
  },
  {
   "cell_type": "code",
   "execution_count": null,
   "metadata": {},
   "outputs": [],
   "source": [
    "X = u[nation]\n",
    "Y = u[\"Slowdown Groups\"]\n",
    "\n",
    "lr2 = LogisticRegression().fit(X, Y)\n",
    "lr2.score(X, Y) ** 0.5"
   ]
  },
  {
   "cell_type": "code",
   "execution_count": null,
   "metadata": {},
   "outputs": [],
   "source": [
    "wlist = []\n",
    "for key in list(weather.keys())[:]:\n",
    "    wlist.append([key, F_to_C(weather[key][\"temp\"])])\n",
    "    \n",
    "w = pd.DataFrame(wlist, columns = [\"ts\", \"temp\"])\n",
    "w.ts = w.ts.apply(pd.to_datetime)\n",
    "w.index = w.ts\n",
    "w['year'] = w['ts'].dt.year\n",
    "\n",
    "ax = w.boxplot(by='year', column='temp', grid = True)\n",
    "plt.suptitle(\"\")\n",
    "plt.ylabel(\"temp (C)\")\n",
    "ax.get_figure().gca().set_title(\"\")"
   ]
  },
  {
   "cell_type": "code",
   "execution_count": 98,
   "metadata": {},
   "outputs": [
    {
     "data": {
      "text/plain": [
       "{'to10': 20753,\n",
       " 'to5': 15865,\n",
       " 'to50': 126770,\n",
       " 'negative': 8132,\n",
       " 'to100': 15315,\n",
       " 'over100': 870}"
      ]
     },
     "execution_count": 98,
     "metadata": {},
     "output_type": "execute_result"
    }
   ],
   "source": [
    "from collections import Counter\n",
    "#g.rename(columns={'Speed Groups':'sg', 'Slowdown Groups': 'sdg', 'Time Of Day': 'tod'}, inplace=True)\n",
    "g =  g.dropna(how = \"any\")\n",
    "dict(Counter(g[\"Slowdown Groups\"]))"
   ]
  },
  {
   "cell_type": "code",
   "execution_count": 64,
   "metadata": {},
   "outputs": [
    {
     "ename": "ValueError",
     "evalue": "bad input shape (93852, 2)",
     "output_type": "error",
     "traceback": [
      "\u001b[0;31m---------------------------------------------------------------------------\u001b[0m",
      "\u001b[0;31mValueError\u001b[0m                                Traceback (most recent call last)",
      "\u001b[0;32m<ipython-input-64-58711327bf7f>\u001b[0m in \u001b[0;36m<module>\u001b[0;34m\u001b[0m\n\u001b[1;32m     45\u001b[0m gnb.fit(\n\u001b[1;32m     46\u001b[0m     \u001b[0mX_train\u001b[0m\u001b[0;34m[\u001b[0m\u001b[0mused_features\u001b[0m\u001b[0;34m]\u001b[0m\u001b[0;34m.\u001b[0m\u001b[0mvalues\u001b[0m\u001b[0;34m,\u001b[0m\u001b[0;34m\u001b[0m\u001b[0m\n\u001b[0;32m---> 47\u001b[0;31m     \u001b[0mX_train\u001b[0m\u001b[0;34m[\u001b[0m\u001b[0;34m\"sdg\"\u001b[0m\u001b[0;34m]\u001b[0m\u001b[0;34m\u001b[0m\u001b[0m\n\u001b[0m\u001b[1;32m     48\u001b[0m )\n\u001b[1;32m     49\u001b[0m \u001b[0my_pred\u001b[0m \u001b[0;34m=\u001b[0m \u001b[0mgnb\u001b[0m\u001b[0;34m.\u001b[0m\u001b[0mpredict\u001b[0m\u001b[0;34m(\u001b[0m\u001b[0mX_test\u001b[0m\u001b[0;34m[\u001b[0m\u001b[0mused_features\u001b[0m\u001b[0;34m]\u001b[0m\u001b[0;34m)\u001b[0m\u001b[0;34m\u001b[0m\u001b[0m\n",
      "\u001b[0;32m/Library/Frameworks/Python.framework/Versions/3.7/lib/python3.7/site-packages/sklearn/naive_bayes.py\u001b[0m in \u001b[0;36mfit\u001b[0;34m(self, X, y, sample_weight)\u001b[0m\n\u001b[1;32m    188\u001b[0m         \u001b[0mself\u001b[0m \u001b[0;34m:\u001b[0m \u001b[0mobject\u001b[0m\u001b[0;34m\u001b[0m\u001b[0m\n\u001b[1;32m    189\u001b[0m         \"\"\"\n\u001b[0;32m--> 190\u001b[0;31m         \u001b[0mX\u001b[0m\u001b[0;34m,\u001b[0m \u001b[0my\u001b[0m \u001b[0;34m=\u001b[0m \u001b[0mcheck_X_y\u001b[0m\u001b[0;34m(\u001b[0m\u001b[0mX\u001b[0m\u001b[0;34m,\u001b[0m \u001b[0my\u001b[0m\u001b[0;34m)\u001b[0m\u001b[0;34m\u001b[0m\u001b[0m\n\u001b[0m\u001b[1;32m    191\u001b[0m         return self._partial_fit(X, y, np.unique(y), _refit=True,\n\u001b[1;32m    192\u001b[0m                                  sample_weight=sample_weight)\n",
      "\u001b[0;32m/Library/Frameworks/Python.framework/Versions/3.7/lib/python3.7/site-packages/sklearn/utils/validation.py\u001b[0m in \u001b[0;36mcheck_X_y\u001b[0;34m(X, y, accept_sparse, accept_large_sparse, dtype, order, copy, force_all_finite, ensure_2d, allow_nd, multi_output, ensure_min_samples, ensure_min_features, y_numeric, warn_on_dtype, estimator)\u001b[0m\n\u001b[1;32m    750\u001b[0m                         dtype=None)\n\u001b[1;32m    751\u001b[0m     \u001b[0;32melse\u001b[0m\u001b[0;34m:\u001b[0m\u001b[0;34m\u001b[0m\u001b[0m\n\u001b[0;32m--> 752\u001b[0;31m         \u001b[0my\u001b[0m \u001b[0;34m=\u001b[0m \u001b[0mcolumn_or_1d\u001b[0m\u001b[0;34m(\u001b[0m\u001b[0my\u001b[0m\u001b[0;34m,\u001b[0m \u001b[0mwarn\u001b[0m\u001b[0;34m=\u001b[0m\u001b[0;32mTrue\u001b[0m\u001b[0;34m)\u001b[0m\u001b[0;34m\u001b[0m\u001b[0m\n\u001b[0m\u001b[1;32m    753\u001b[0m         \u001b[0m_assert_all_finite\u001b[0m\u001b[0;34m(\u001b[0m\u001b[0my\u001b[0m\u001b[0;34m)\u001b[0m\u001b[0;34m\u001b[0m\u001b[0m\n\u001b[1;32m    754\u001b[0m     \u001b[0;32mif\u001b[0m \u001b[0my_numeric\u001b[0m \u001b[0;32mand\u001b[0m \u001b[0my\u001b[0m\u001b[0;34m.\u001b[0m\u001b[0mdtype\u001b[0m\u001b[0;34m.\u001b[0m\u001b[0mkind\u001b[0m \u001b[0;34m==\u001b[0m \u001b[0;34m'O'\u001b[0m\u001b[0;34m:\u001b[0m\u001b[0;34m\u001b[0m\u001b[0m\n",
      "\u001b[0;32m/Library/Frameworks/Python.framework/Versions/3.7/lib/python3.7/site-packages/sklearn/utils/validation.py\u001b[0m in \u001b[0;36mcolumn_or_1d\u001b[0;34m(y, warn)\u001b[0m\n\u001b[1;32m    786\u001b[0m         \u001b[0;32mreturn\u001b[0m \u001b[0mnp\u001b[0m\u001b[0;34m.\u001b[0m\u001b[0mravel\u001b[0m\u001b[0;34m(\u001b[0m\u001b[0my\u001b[0m\u001b[0;34m)\u001b[0m\u001b[0;34m\u001b[0m\u001b[0m\n\u001b[1;32m    787\u001b[0m \u001b[0;34m\u001b[0m\u001b[0m\n\u001b[0;32m--> 788\u001b[0;31m     \u001b[0;32mraise\u001b[0m \u001b[0mValueError\u001b[0m\u001b[0;34m(\u001b[0m\u001b[0;34m\"bad input shape {0}\"\u001b[0m\u001b[0;34m.\u001b[0m\u001b[0mformat\u001b[0m\u001b[0;34m(\u001b[0m\u001b[0mshape\u001b[0m\u001b[0;34m)\u001b[0m\u001b[0;34m)\u001b[0m\u001b[0;34m\u001b[0m\u001b[0m\n\u001b[0m\u001b[1;32m    789\u001b[0m \u001b[0;34m\u001b[0m\u001b[0m\n\u001b[1;32m    790\u001b[0m \u001b[0;34m\u001b[0m\u001b[0m\n",
      "\u001b[0;31mValueError\u001b[0m: bad input shape (93852, 2)"
     ]
    }
   ],
   "source": [
    "\n",
    "import pandas as pd\n",
    "import numpy as np\n",
    "import matplotlib.pyplot as plt\n",
    "import time\n",
    "from sklearn.model_selection import train_test_split\n",
    "from sklearn.naive_bayes import GaussianNB, BernoulliNB, MultinomialNB\n",
    "from sklearn.metrics import confusion_matrix\n",
    "from collections import Counter\n",
    "\n",
    "# Importing dataset\n",
    "data = g.copy()\n",
    "\n",
    "# Convert categorical variable to numeric\n",
    "data[\"Sex_cleaned\"]=np.where(data[\"Gender\"]==\"M\",0,1)\n",
    "data[\"Year_cleaned\"]=data[\"Year\"]#np.where(data[\"Year\"]==\"2014\",0,\n",
    "                                  #np.where(data[\"Year\"]==\"2015\",1,\n",
    "                                 #          np.where(data[\"Year\"]==\"2016\",2,3)\n",
    "                               #           )\n",
    "                               #  )\n",
    "data[\"sg_cleaned\"]=np.where(data.sg==\"sub3hours\",0,\n",
    "                                  np.where(data.sg==\"sub4hours\",1,\n",
    "                                           np.where(data.sg==\"sub5hours\",2,3)))\n",
    "\n",
    "# Cleaning dataset of NaN\n",
    "data=data[[\n",
    "    \"sdg\",\n",
    "    \"Sex_cleaned\",\n",
    "    \"Year_cleaned\",\n",
    "    \"sg_cleaned\"\n",
    "]].dropna(axis=0, how='any')\n",
    "\n",
    "# Split dataset in training and test datasets\n",
    "X_train, X_test = train_test_split(data, test_size=0.5, random_state=int(time.time()))\n",
    "\n",
    "# Instantiate the classifier\n",
    "gnb = GaussianNB()\n",
    "used_features =[\n",
    "    \"Sex_cleaned\",\n",
    "    \"Year_cleaned\",\n",
    "    \"sg_cleaned\"\n",
    "]\n",
    "\n",
    "# Train classifier\n",
    "gnb.fit(\n",
    "    X_train[used_features].values,\n",
    "    X_train[\"sdg\"]\n",
    ")\n",
    "y_pred = gnb.predict(X_test[used_features])\n",
    "\n",
    "# Print results\n",
    "print(\"Number of mislabeled points out of a total {} points : {}, performance {:05.2f}%\"\n",
    "      .format(\n",
    "          X_test.shape[0],\n",
    "          (X_test[\"sdg\"] != y_pred).sum(),\n",
    "          100*(1-(X_test[\"sdg\"] != y_pred).sum()/X_test.shape[0])\n",
    "))\n",
    "print(list(X_test[\"sdg\"].unique()))\n",
    "print(confusion_matrix(X_test[\"sdg\"], y_pred, labels = X_test[\"sdg\"].unique()))\n",
    "Counter(X_test[\"sdg\"])"
   ]
  },
  {
   "cell_type": "code",
   "execution_count": 102,
   "metadata": {},
   "outputs": [
    {
     "data": {
      "text/plain": [
       "24.25526882754557"
      ]
     },
     "execution_count": 102,
     "metadata": {},
     "output_type": "execute_result"
    }
   ],
   "source": [
    "g.Slowdown.mean()"
   ]
  },
  {
   "cell_type": "code",
   "execution_count": null,
   "metadata": {},
   "outputs": [],
   "source": [
    "import arff\n",
    "colz = ['Year', 'Gender', 'Place', 'Finish', '5K',\n",
    "       '10K', '15K', '20K', '21.1K', '25K', '30K', '35K', '40K', '42.195K',\n",
    "       'Slowdown', 'sg', 'temp', 'sdg']\n",
    "arff.dump('london_data.arff'\n",
    "      , g[colz].values\n",
    "      , relation='running'\n",
    "      , names=g[colz].columns)"
   ]
  },
  {
   "cell_type": "code",
   "execution_count": null,
   "metadata": {},
   "outputs": [],
   "source": [
    "g.Gender.unique()"
   ]
  },
  {
   "cell_type": "code",
   "execution_count": 53,
   "metadata": {},
   "outputs": [
    {
     "data": {
      "text/plain": [
       "'04:31:04'"
      ]
     },
     "execution_count": 53,
     "metadata": {},
     "output_type": "execute_result"
    }
   ],
   "source": [
    "time_to_string(g.Finish.mean())"
   ]
  },
  {
   "cell_type": "code",
   "execution_count": null,
   "metadata": {},
   "outputs": [],
   "source": []
  }
 ],
 "metadata": {
  "kernelspec": {
   "display_name": "Python 3",
   "language": "python",
   "name": "python3"
  },
  "language_info": {
   "codemirror_mode": {
    "name": "ipython",
    "version": 3
   },
   "file_extension": ".py",
   "mimetype": "text/x-python",
   "name": "python",
   "nbconvert_exporter": "python",
   "pygments_lexer": "ipython3",
   "version": "3.7.0"
  }
 },
 "nbformat": 4,
 "nbformat_minor": 2
}
